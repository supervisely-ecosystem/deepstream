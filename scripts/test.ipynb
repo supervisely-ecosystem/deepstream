{
 "cells": [
  {
   "cell_type": "code",
   "execution_count": 3,
   "id": "f880630d",
   "metadata": {},
   "outputs": [],
   "source": [
    "import torch"
   ]
  },
  {
   "cell_type": "code",
   "execution_count": 5,
   "id": "e7c1b3d9",
   "metadata": {},
   "outputs": [],
   "source": [
    "model = torch.load('../models/best.pth')"
   ]
  },
  {
   "cell_type": "code",
   "execution_count": 7,
   "id": "2a55cc90",
   "metadata": {},
   "outputs": [
    {
     "data": {
      "text/plain": [
       "dict_keys(['date', 'last_epoch', 'model', 'criterion', 'postprocessor', 'ema', 'scaler', 'optimizer', 'lr_warmup_scheduler', 'model_info', 'model_meta', 'model_files'])"
      ]
     },
     "execution_count": 7,
     "metadata": {},
     "output_type": "execute_result"
    }
   ],
   "source": [
    "model.keys()"
   ]
  },
  {
   "cell_type": "code",
   "execution_count": 12,
   "id": "2618e451",
   "metadata": {},
   "outputs": [
    {
     "data": {
      "text/plain": [
       "{'classes': [{'title': 'horse',\n",
       "   'description': '',\n",
       "   'shape': 'rectangle',\n",
       "   'color': '#FE9A03',\n",
       "   'geometry_config': {},\n",
       "   'id': 99044,\n",
       "   'hotkey': ''},\n",
       "  {'title': 'horse head',\n",
       "   'description': '',\n",
       "   'shape': 'rectangle',\n",
       "   'color': '#AEFF01',\n",
       "   'geometry_config': {},\n",
       "   'id': 99045,\n",
       "   'hotkey': ''},\n",
       "  {'title': 'number plate',\n",
       "   'description': '',\n",
       "   'shape': 'rectangle',\n",
       "   'color': '#6200FF',\n",
       "   'geometry_config': {},\n",
       "   'id': 99046,\n",
       "   'hotkey': ''},\n",
       "  {'title': 'rider',\n",
       "   'description': '',\n",
       "   'shape': 'rectangle',\n",
       "   'color': '#02C2FF',\n",
       "   'geometry_config': {},\n",
       "   'id': 99047,\n",
       "   'hotkey': ''},\n",
       "  {'title': 'yellow stick',\n",
       "   'description': '',\n",
       "   'shape': 'rectangle',\n",
       "   'color': '#F6F016',\n",
       "   'geometry_config': {},\n",
       "   'id': 99048,\n",
       "   'hotkey': ''},\n",
       "  {'title': 'white stick',\n",
       "   'description': '',\n",
       "   'shape': 'rectangle',\n",
       "   'color': '#FF03D6',\n",
       "   'geometry_config': {},\n",
       "   'id': 99049,\n",
       "   'hotkey': ''}],\n",
       " 'tags': [{'name': 'Completed',\n",
       "   'value_type': 'none',\n",
       "   'color': '#82CA35',\n",
       "   'id': 13838,\n",
       "   'hotkey': '',\n",
       "   'applicable_type': 'all',\n",
       "   'classes': [],\n",
       "   'target_type': 'all'},\n",
       "  {'name': 'confidence',\n",
       "   'value_type': 'any_number',\n",
       "   'color': '#8A0F13',\n",
       "   'id': 13839,\n",
       "   'hotkey': '',\n",
       "   'applicable_type': 'all',\n",
       "   'classes': [],\n",
       "   'target_type': 'all'}],\n",
       " 'projectType': 'images',\n",
       " 'projectSettings': {'multiView': {'enabled': False,\n",
       "   'tagName': None,\n",
       "   'tagId': None,\n",
       "   'isSynced': False}}}"
      ]
     },
     "execution_count": 12,
     "metadata": {},
     "output_type": "execute_result"
    }
   ],
   "source": [
    "model['model_meta']"
   ]
  },
  {
   "cell_type": "code",
   "execution_count": 14,
   "id": "424c2134",
   "metadata": {},
   "outputs": [
    {
     "data": {
      "text/plain": [
       "odict_keys(['backbone.stem.stem1.conv.weight', 'backbone.stem.stem1.bn.weight', 'backbone.stem.stem1.bn.bias', 'backbone.stem.stem1.bn.running_mean', 'backbone.stem.stem1.bn.running_var', 'backbone.stem.stem1.bn.num_batches_tracked', 'backbone.stem.stem2a.conv.weight', 'backbone.stem.stem2a.bn.weight', 'backbone.stem.stem2a.bn.bias', 'backbone.stem.stem2a.bn.running_mean', 'backbone.stem.stem2a.bn.running_var', 'backbone.stem.stem2a.bn.num_batches_tracked', 'backbone.stem.stem2b.conv.weight', 'backbone.stem.stem2b.bn.weight', 'backbone.stem.stem2b.bn.bias', 'backbone.stem.stem2b.bn.running_mean', 'backbone.stem.stem2b.bn.running_var', 'backbone.stem.stem2b.bn.num_batches_tracked', 'backbone.stem.stem3.conv.weight', 'backbone.stem.stem3.bn.weight', 'backbone.stem.stem3.bn.bias', 'backbone.stem.stem3.bn.running_mean', 'backbone.stem.stem3.bn.running_var', 'backbone.stem.stem3.bn.num_batches_tracked', 'backbone.stem.stem4.conv.weight', 'backbone.stem.stem4.bn.weight', 'backbone.stem.stem4.bn.bias', 'backbone.stem.stem4.bn.running_mean', 'backbone.stem.stem4.bn.running_var', 'backbone.stem.stem4.bn.num_batches_tracked', 'backbone.stages.0.blocks.0.layers.0.conv.weight', 'backbone.stages.0.blocks.0.layers.0.bn.weight', 'backbone.stages.0.blocks.0.layers.0.bn.bias', 'backbone.stages.0.blocks.0.layers.0.bn.running_mean', 'backbone.stages.0.blocks.0.layers.0.bn.running_var', 'backbone.stages.0.blocks.0.layers.0.bn.num_batches_tracked', 'backbone.stages.0.blocks.0.layers.1.conv.weight', 'backbone.stages.0.blocks.0.layers.1.bn.weight', 'backbone.stages.0.blocks.0.layers.1.bn.bias', 'backbone.stages.0.blocks.0.layers.1.bn.running_mean', 'backbone.stages.0.blocks.0.layers.1.bn.running_var', 'backbone.stages.0.blocks.0.layers.1.bn.num_batches_tracked', 'backbone.stages.0.blocks.0.layers.2.conv.weight', 'backbone.stages.0.blocks.0.layers.2.bn.weight', 'backbone.stages.0.blocks.0.layers.2.bn.bias', 'backbone.stages.0.blocks.0.layers.2.bn.running_mean', 'backbone.stages.0.blocks.0.layers.2.bn.running_var', 'backbone.stages.0.blocks.0.layers.2.bn.num_batches_tracked', 'backbone.stages.0.blocks.0.layers.3.conv.weight', 'backbone.stages.0.blocks.0.layers.3.bn.weight', 'backbone.stages.0.blocks.0.layers.3.bn.bias', 'backbone.stages.0.blocks.0.layers.3.bn.running_mean', 'backbone.stages.0.blocks.0.layers.3.bn.running_var', 'backbone.stages.0.blocks.0.layers.3.bn.num_batches_tracked', 'backbone.stages.0.blocks.0.layers.4.conv.weight', 'backbone.stages.0.blocks.0.layers.4.bn.weight', 'backbone.stages.0.blocks.0.layers.4.bn.bias', 'backbone.stages.0.blocks.0.layers.4.bn.running_mean', 'backbone.stages.0.blocks.0.layers.4.bn.running_var', 'backbone.stages.0.blocks.0.layers.4.bn.num_batches_tracked', 'backbone.stages.0.blocks.0.layers.5.conv.weight', 'backbone.stages.0.blocks.0.layers.5.bn.weight', 'backbone.stages.0.blocks.0.layers.5.bn.bias', 'backbone.stages.0.blocks.0.layers.5.bn.running_mean', 'backbone.stages.0.blocks.0.layers.5.bn.running_var', 'backbone.stages.0.blocks.0.layers.5.bn.num_batches_tracked', 'backbone.stages.0.blocks.0.aggregation.0.conv.weight', 'backbone.stages.0.blocks.0.aggregation.0.bn.weight', 'backbone.stages.0.blocks.0.aggregation.0.bn.bias', 'backbone.stages.0.blocks.0.aggregation.0.bn.running_mean', 'backbone.stages.0.blocks.0.aggregation.0.bn.running_var', 'backbone.stages.0.blocks.0.aggregation.0.bn.num_batches_tracked', 'backbone.stages.0.blocks.0.aggregation.1.conv.weight', 'backbone.stages.0.blocks.0.aggregation.1.bn.weight', 'backbone.stages.0.blocks.0.aggregation.1.bn.bias', 'backbone.stages.0.blocks.0.aggregation.1.bn.running_mean', 'backbone.stages.0.blocks.0.aggregation.1.bn.running_var', 'backbone.stages.0.blocks.0.aggregation.1.bn.num_batches_tracked', 'backbone.stages.1.downsample.conv.weight', 'backbone.stages.1.downsample.bn.weight', 'backbone.stages.1.downsample.bn.bias', 'backbone.stages.1.downsample.bn.running_mean', 'backbone.stages.1.downsample.bn.running_var', 'backbone.stages.1.downsample.bn.num_batches_tracked', 'backbone.stages.1.blocks.0.layers.0.conv.weight', 'backbone.stages.1.blocks.0.layers.0.bn.weight', 'backbone.stages.1.blocks.0.layers.0.bn.bias', 'backbone.stages.1.blocks.0.layers.0.bn.running_mean', 'backbone.stages.1.blocks.0.layers.0.bn.running_var', 'backbone.stages.1.blocks.0.layers.0.bn.num_batches_tracked', 'backbone.stages.1.blocks.0.layers.1.conv.weight', 'backbone.stages.1.blocks.0.layers.1.bn.weight', 'backbone.stages.1.blocks.0.layers.1.bn.bias', 'backbone.stages.1.blocks.0.layers.1.bn.running_mean', 'backbone.stages.1.blocks.0.layers.1.bn.running_var', 'backbone.stages.1.blocks.0.layers.1.bn.num_batches_tracked', 'backbone.stages.1.blocks.0.layers.2.conv.weight', 'backbone.stages.1.blocks.0.layers.2.bn.weight', 'backbone.stages.1.blocks.0.layers.2.bn.bias', 'backbone.stages.1.blocks.0.layers.2.bn.running_mean', 'backbone.stages.1.blocks.0.layers.2.bn.running_var', 'backbone.stages.1.blocks.0.layers.2.bn.num_batches_tracked', 'backbone.stages.1.blocks.0.layers.3.conv.weight', 'backbone.stages.1.blocks.0.layers.3.bn.weight', 'backbone.stages.1.blocks.0.layers.3.bn.bias', 'backbone.stages.1.blocks.0.layers.3.bn.running_mean', 'backbone.stages.1.blocks.0.layers.3.bn.running_var', 'backbone.stages.1.blocks.0.layers.3.bn.num_batches_tracked', 'backbone.stages.1.blocks.0.layers.4.conv.weight', 'backbone.stages.1.blocks.0.layers.4.bn.weight', 'backbone.stages.1.blocks.0.layers.4.bn.bias', 'backbone.stages.1.blocks.0.layers.4.bn.running_mean', 'backbone.stages.1.blocks.0.layers.4.bn.running_var', 'backbone.stages.1.blocks.0.layers.4.bn.num_batches_tracked', 'backbone.stages.1.blocks.0.layers.5.conv.weight', 'backbone.stages.1.blocks.0.layers.5.bn.weight', 'backbone.stages.1.blocks.0.layers.5.bn.bias', 'backbone.stages.1.blocks.0.layers.5.bn.running_mean', 'backbone.stages.1.blocks.0.layers.5.bn.running_var', 'backbone.stages.1.blocks.0.layers.5.bn.num_batches_tracked', 'backbone.stages.1.blocks.0.aggregation.0.conv.weight', 'backbone.stages.1.blocks.0.aggregation.0.bn.weight', 'backbone.stages.1.blocks.0.aggregation.0.bn.bias', 'backbone.stages.1.blocks.0.aggregation.0.bn.running_mean', 'backbone.stages.1.blocks.0.aggregation.0.bn.running_var', 'backbone.stages.1.blocks.0.aggregation.0.bn.num_batches_tracked', 'backbone.stages.1.blocks.0.aggregation.1.conv.weight', 'backbone.stages.1.blocks.0.aggregation.1.bn.weight', 'backbone.stages.1.blocks.0.aggregation.1.bn.bias', 'backbone.stages.1.blocks.0.aggregation.1.bn.running_mean', 'backbone.stages.1.blocks.0.aggregation.1.bn.running_var', 'backbone.stages.1.blocks.0.aggregation.1.bn.num_batches_tracked', 'backbone.stages.2.downsample.conv.weight', 'backbone.stages.2.downsample.bn.weight', 'backbone.stages.2.downsample.bn.bias', 'backbone.stages.2.downsample.bn.running_mean', 'backbone.stages.2.downsample.bn.running_var', 'backbone.stages.2.downsample.bn.num_batches_tracked', 'backbone.stages.2.blocks.0.layers.0.conv1.conv.weight', 'backbone.stages.2.blocks.0.layers.0.conv1.bn.weight', 'backbone.stages.2.blocks.0.layers.0.conv1.bn.bias', 'backbone.stages.2.blocks.0.layers.0.conv1.bn.running_mean', 'backbone.stages.2.blocks.0.layers.0.conv1.bn.running_var', 'backbone.stages.2.blocks.0.layers.0.conv1.bn.num_batches_tracked', 'backbone.stages.2.blocks.0.layers.0.conv2.conv.weight', 'backbone.stages.2.blocks.0.layers.0.conv2.bn.weight', 'backbone.stages.2.blocks.0.layers.0.conv2.bn.bias', 'backbone.stages.2.blocks.0.layers.0.conv2.bn.running_mean', 'backbone.stages.2.blocks.0.layers.0.conv2.bn.running_var', 'backbone.stages.2.blocks.0.layers.0.conv2.bn.num_batches_tracked', 'backbone.stages.2.blocks.0.layers.1.conv1.conv.weight', 'backbone.stages.2.blocks.0.layers.1.conv1.bn.weight', 'backbone.stages.2.blocks.0.layers.1.conv1.bn.bias', 'backbone.stages.2.blocks.0.layers.1.conv1.bn.running_mean', 'backbone.stages.2.blocks.0.layers.1.conv1.bn.running_var', 'backbone.stages.2.blocks.0.layers.1.conv1.bn.num_batches_tracked', 'backbone.stages.2.blocks.0.layers.1.conv2.conv.weight', 'backbone.stages.2.blocks.0.layers.1.conv2.bn.weight', 'backbone.stages.2.blocks.0.layers.1.conv2.bn.bias', 'backbone.stages.2.blocks.0.layers.1.conv2.bn.running_mean', 'backbone.stages.2.blocks.0.layers.1.conv2.bn.running_var', 'backbone.stages.2.blocks.0.layers.1.conv2.bn.num_batches_tracked', 'backbone.stages.2.blocks.0.layers.2.conv1.conv.weight', 'backbone.stages.2.blocks.0.layers.2.conv1.bn.weight', 'backbone.stages.2.blocks.0.layers.2.conv1.bn.bias', 'backbone.stages.2.blocks.0.layers.2.conv1.bn.running_mean', 'backbone.stages.2.blocks.0.layers.2.conv1.bn.running_var', 'backbone.stages.2.blocks.0.layers.2.conv1.bn.num_batches_tracked', 'backbone.stages.2.blocks.0.layers.2.conv2.conv.weight', 'backbone.stages.2.blocks.0.layers.2.conv2.bn.weight', 'backbone.stages.2.blocks.0.layers.2.conv2.bn.bias', 'backbone.stages.2.blocks.0.layers.2.conv2.bn.running_mean', 'backbone.stages.2.blocks.0.layers.2.conv2.bn.running_var', 'backbone.stages.2.blocks.0.layers.2.conv2.bn.num_batches_tracked', 'backbone.stages.2.blocks.0.layers.3.conv1.conv.weight', 'backbone.stages.2.blocks.0.layers.3.conv1.bn.weight', 'backbone.stages.2.blocks.0.layers.3.conv1.bn.bias', 'backbone.stages.2.blocks.0.layers.3.conv1.bn.running_mean', 'backbone.stages.2.blocks.0.layers.3.conv1.bn.running_var', 'backbone.stages.2.blocks.0.layers.3.conv1.bn.num_batches_tracked', 'backbone.stages.2.blocks.0.layers.3.conv2.conv.weight', 'backbone.stages.2.blocks.0.layers.3.conv2.bn.weight', 'backbone.stages.2.blocks.0.layers.3.conv2.bn.bias', 'backbone.stages.2.blocks.0.layers.3.conv2.bn.running_mean', 'backbone.stages.2.blocks.0.layers.3.conv2.bn.running_var', 'backbone.stages.2.blocks.0.layers.3.conv2.bn.num_batches_tracked', 'backbone.stages.2.blocks.0.layers.4.conv1.conv.weight', 'backbone.stages.2.blocks.0.layers.4.conv1.bn.weight', 'backbone.stages.2.blocks.0.layers.4.conv1.bn.bias', 'backbone.stages.2.blocks.0.layers.4.conv1.bn.running_mean', 'backbone.stages.2.blocks.0.layers.4.conv1.bn.running_var', 'backbone.stages.2.blocks.0.layers.4.conv1.bn.num_batches_tracked', 'backbone.stages.2.blocks.0.layers.4.conv2.conv.weight', 'backbone.stages.2.blocks.0.layers.4.conv2.bn.weight', 'backbone.stages.2.blocks.0.layers.4.conv2.bn.bias', 'backbone.stages.2.blocks.0.layers.4.conv2.bn.running_mean', 'backbone.stages.2.blocks.0.layers.4.conv2.bn.running_var', 'backbone.stages.2.blocks.0.layers.4.conv2.bn.num_batches_tracked', 'backbone.stages.2.blocks.0.layers.5.conv1.conv.weight', 'backbone.stages.2.blocks.0.layers.5.conv1.bn.weight', 'backbone.stages.2.blocks.0.layers.5.conv1.bn.bias', 'backbone.stages.2.blocks.0.layers.5.conv1.bn.running_mean', 'backbone.stages.2.blocks.0.layers.5.conv1.bn.running_var', 'backbone.stages.2.blocks.0.layers.5.conv1.bn.num_batches_tracked', 'backbone.stages.2.blocks.0.layers.5.conv2.conv.weight', 'backbone.stages.2.blocks.0.layers.5.conv2.bn.weight', 'backbone.stages.2.blocks.0.layers.5.conv2.bn.bias', 'backbone.stages.2.blocks.0.layers.5.conv2.bn.running_mean', 'backbone.stages.2.blocks.0.layers.5.conv2.bn.running_var', 'backbone.stages.2.blocks.0.layers.5.conv2.bn.num_batches_tracked', 'backbone.stages.2.blocks.0.aggregation.0.conv.weight', 'backbone.stages.2.blocks.0.aggregation.0.bn.weight', 'backbone.stages.2.blocks.0.aggregation.0.bn.bias', 'backbone.stages.2.blocks.0.aggregation.0.bn.running_mean', 'backbone.stages.2.blocks.0.aggregation.0.bn.running_var', 'backbone.stages.2.blocks.0.aggregation.0.bn.num_batches_tracked', 'backbone.stages.2.blocks.0.aggregation.1.conv.weight', 'backbone.stages.2.blocks.0.aggregation.1.bn.weight', 'backbone.stages.2.blocks.0.aggregation.1.bn.bias', 'backbone.stages.2.blocks.0.aggregation.1.bn.running_mean', 'backbone.stages.2.blocks.0.aggregation.1.bn.running_var', 'backbone.stages.2.blocks.0.aggregation.1.bn.num_batches_tracked', 'backbone.stages.2.blocks.1.layers.0.conv1.conv.weight', 'backbone.stages.2.blocks.1.layers.0.conv1.bn.weight', 'backbone.stages.2.blocks.1.layers.0.conv1.bn.bias', 'backbone.stages.2.blocks.1.layers.0.conv1.bn.running_mean', 'backbone.stages.2.blocks.1.layers.0.conv1.bn.running_var', 'backbone.stages.2.blocks.1.layers.0.conv1.bn.num_batches_tracked', 'backbone.stages.2.blocks.1.layers.0.conv2.conv.weight', 'backbone.stages.2.blocks.1.layers.0.conv2.bn.weight', 'backbone.stages.2.blocks.1.layers.0.conv2.bn.bias', 'backbone.stages.2.blocks.1.layers.0.conv2.bn.running_mean', 'backbone.stages.2.blocks.1.layers.0.conv2.bn.running_var', 'backbone.stages.2.blocks.1.layers.0.conv2.bn.num_batches_tracked', 'backbone.stages.2.blocks.1.layers.1.conv1.conv.weight', 'backbone.stages.2.blocks.1.layers.1.conv1.bn.weight', 'backbone.stages.2.blocks.1.layers.1.conv1.bn.bias', 'backbone.stages.2.blocks.1.layers.1.conv1.bn.running_mean', 'backbone.stages.2.blocks.1.layers.1.conv1.bn.running_var', 'backbone.stages.2.blocks.1.layers.1.conv1.bn.num_batches_tracked', 'backbone.stages.2.blocks.1.layers.1.conv2.conv.weight', 'backbone.stages.2.blocks.1.layers.1.conv2.bn.weight', 'backbone.stages.2.blocks.1.layers.1.conv2.bn.bias', 'backbone.stages.2.blocks.1.layers.1.conv2.bn.running_mean', 'backbone.stages.2.blocks.1.layers.1.conv2.bn.running_var', 'backbone.stages.2.blocks.1.layers.1.conv2.bn.num_batches_tracked', 'backbone.stages.2.blocks.1.layers.2.conv1.conv.weight', 'backbone.stages.2.blocks.1.layers.2.conv1.bn.weight', 'backbone.stages.2.blocks.1.layers.2.conv1.bn.bias', 'backbone.stages.2.blocks.1.layers.2.conv1.bn.running_mean', 'backbone.stages.2.blocks.1.layers.2.conv1.bn.running_var', 'backbone.stages.2.blocks.1.layers.2.conv1.bn.num_batches_tracked', 'backbone.stages.2.blocks.1.layers.2.conv2.conv.weight', 'backbone.stages.2.blocks.1.layers.2.conv2.bn.weight', 'backbone.stages.2.blocks.1.layers.2.conv2.bn.bias', 'backbone.stages.2.blocks.1.layers.2.conv2.bn.running_mean', 'backbone.stages.2.blocks.1.layers.2.conv2.bn.running_var', 'backbone.stages.2.blocks.1.layers.2.conv2.bn.num_batches_tracked', 'backbone.stages.2.blocks.1.layers.3.conv1.conv.weight', 'backbone.stages.2.blocks.1.layers.3.conv1.bn.weight', 'backbone.stages.2.blocks.1.layers.3.conv1.bn.bias', 'backbone.stages.2.blocks.1.layers.3.conv1.bn.running_mean', 'backbone.stages.2.blocks.1.layers.3.conv1.bn.running_var', 'backbone.stages.2.blocks.1.layers.3.conv1.bn.num_batches_tracked', 'backbone.stages.2.blocks.1.layers.3.conv2.conv.weight', 'backbone.stages.2.blocks.1.layers.3.conv2.bn.weight', 'backbone.stages.2.blocks.1.layers.3.conv2.bn.bias', 'backbone.stages.2.blocks.1.layers.3.conv2.bn.running_mean', 'backbone.stages.2.blocks.1.layers.3.conv2.bn.running_var', 'backbone.stages.2.blocks.1.layers.3.conv2.bn.num_batches_tracked', 'backbone.stages.2.blocks.1.layers.4.conv1.conv.weight', 'backbone.stages.2.blocks.1.layers.4.conv1.bn.weight', 'backbone.stages.2.blocks.1.layers.4.conv1.bn.bias', 'backbone.stages.2.blocks.1.layers.4.conv1.bn.running_mean', 'backbone.stages.2.blocks.1.layers.4.conv1.bn.running_var', 'backbone.stages.2.blocks.1.layers.4.conv1.bn.num_batches_tracked', 'backbone.stages.2.blocks.1.layers.4.conv2.conv.weight', 'backbone.stages.2.blocks.1.layers.4.conv2.bn.weight', 'backbone.stages.2.blocks.1.layers.4.conv2.bn.bias', 'backbone.stages.2.blocks.1.layers.4.conv2.bn.running_mean', 'backbone.stages.2.blocks.1.layers.4.conv2.bn.running_var', 'backbone.stages.2.blocks.1.layers.4.conv2.bn.num_batches_tracked', 'backbone.stages.2.blocks.1.layers.5.conv1.conv.weight', 'backbone.stages.2.blocks.1.layers.5.conv1.bn.weight', 'backbone.stages.2.blocks.1.layers.5.conv1.bn.bias', 'backbone.stages.2.blocks.1.layers.5.conv1.bn.running_mean', 'backbone.stages.2.blocks.1.layers.5.conv1.bn.running_var', 'backbone.stages.2.blocks.1.layers.5.conv1.bn.num_batches_tracked', 'backbone.stages.2.blocks.1.layers.5.conv2.conv.weight', 'backbone.stages.2.blocks.1.layers.5.conv2.bn.weight', 'backbone.stages.2.blocks.1.layers.5.conv2.bn.bias', 'backbone.stages.2.blocks.1.layers.5.conv2.bn.running_mean', 'backbone.stages.2.blocks.1.layers.5.conv2.bn.running_var', 'backbone.stages.2.blocks.1.layers.5.conv2.bn.num_batches_tracked', 'backbone.stages.2.blocks.1.aggregation.0.conv.weight', 'backbone.stages.2.blocks.1.aggregation.0.bn.weight', 'backbone.stages.2.blocks.1.aggregation.0.bn.bias', 'backbone.stages.2.blocks.1.aggregation.0.bn.running_mean', 'backbone.stages.2.blocks.1.aggregation.0.bn.running_var', 'backbone.stages.2.blocks.1.aggregation.0.bn.num_batches_tracked', 'backbone.stages.2.blocks.1.aggregation.1.conv.weight', 'backbone.stages.2.blocks.1.aggregation.1.bn.weight', 'backbone.stages.2.blocks.1.aggregation.1.bn.bias', 'backbone.stages.2.blocks.1.aggregation.1.bn.running_mean', 'backbone.stages.2.blocks.1.aggregation.1.bn.running_var', 'backbone.stages.2.blocks.1.aggregation.1.bn.num_batches_tracked', 'backbone.stages.2.blocks.2.layers.0.conv1.conv.weight', 'backbone.stages.2.blocks.2.layers.0.conv1.bn.weight', 'backbone.stages.2.blocks.2.layers.0.conv1.bn.bias', 'backbone.stages.2.blocks.2.layers.0.conv1.bn.running_mean', 'backbone.stages.2.blocks.2.layers.0.conv1.bn.running_var', 'backbone.stages.2.blocks.2.layers.0.conv1.bn.num_batches_tracked', 'backbone.stages.2.blocks.2.layers.0.conv2.conv.weight', 'backbone.stages.2.blocks.2.layers.0.conv2.bn.weight', 'backbone.stages.2.blocks.2.layers.0.conv2.bn.bias', 'backbone.stages.2.blocks.2.layers.0.conv2.bn.running_mean', 'backbone.stages.2.blocks.2.layers.0.conv2.bn.running_var', 'backbone.stages.2.blocks.2.layers.0.conv2.bn.num_batches_tracked', 'backbone.stages.2.blocks.2.layers.1.conv1.conv.weight', 'backbone.stages.2.blocks.2.layers.1.conv1.bn.weight', 'backbone.stages.2.blocks.2.layers.1.conv1.bn.bias', 'backbone.stages.2.blocks.2.layers.1.conv1.bn.running_mean', 'backbone.stages.2.blocks.2.layers.1.conv1.bn.running_var', 'backbone.stages.2.blocks.2.layers.1.conv1.bn.num_batches_tracked', 'backbone.stages.2.blocks.2.layers.1.conv2.conv.weight', 'backbone.stages.2.blocks.2.layers.1.conv2.bn.weight', 'backbone.stages.2.blocks.2.layers.1.conv2.bn.bias', 'backbone.stages.2.blocks.2.layers.1.conv2.bn.running_mean', 'backbone.stages.2.blocks.2.layers.1.conv2.bn.running_var', 'backbone.stages.2.blocks.2.layers.1.conv2.bn.num_batches_tracked', 'backbone.stages.2.blocks.2.layers.2.conv1.conv.weight', 'backbone.stages.2.blocks.2.layers.2.conv1.bn.weight', 'backbone.stages.2.blocks.2.layers.2.conv1.bn.bias', 'backbone.stages.2.blocks.2.layers.2.conv1.bn.running_mean', 'backbone.stages.2.blocks.2.layers.2.conv1.bn.running_var', 'backbone.stages.2.blocks.2.layers.2.conv1.bn.num_batches_tracked', 'backbone.stages.2.blocks.2.layers.2.conv2.conv.weight', 'backbone.stages.2.blocks.2.layers.2.conv2.bn.weight', 'backbone.stages.2.blocks.2.layers.2.conv2.bn.bias', 'backbone.stages.2.blocks.2.layers.2.conv2.bn.running_mean', 'backbone.stages.2.blocks.2.layers.2.conv2.bn.running_var', 'backbone.stages.2.blocks.2.layers.2.conv2.bn.num_batches_tracked', 'backbone.stages.2.blocks.2.layers.3.conv1.conv.weight', 'backbone.stages.2.blocks.2.layers.3.conv1.bn.weight', 'backbone.stages.2.blocks.2.layers.3.conv1.bn.bias', 'backbone.stages.2.blocks.2.layers.3.conv1.bn.running_mean', 'backbone.stages.2.blocks.2.layers.3.conv1.bn.running_var', 'backbone.stages.2.blocks.2.layers.3.conv1.bn.num_batches_tracked', 'backbone.stages.2.blocks.2.layers.3.conv2.conv.weight', 'backbone.stages.2.blocks.2.layers.3.conv2.bn.weight', 'backbone.stages.2.blocks.2.layers.3.conv2.bn.bias', 'backbone.stages.2.blocks.2.layers.3.conv2.bn.running_mean', 'backbone.stages.2.blocks.2.layers.3.conv2.bn.running_var', 'backbone.stages.2.blocks.2.layers.3.conv2.bn.num_batches_tracked', 'backbone.stages.2.blocks.2.layers.4.conv1.conv.weight', 'backbone.stages.2.blocks.2.layers.4.conv1.bn.weight', 'backbone.stages.2.blocks.2.layers.4.conv1.bn.bias', 'backbone.stages.2.blocks.2.layers.4.conv1.bn.running_mean', 'backbone.stages.2.blocks.2.layers.4.conv1.bn.running_var', 'backbone.stages.2.blocks.2.layers.4.conv1.bn.num_batches_tracked', 'backbone.stages.2.blocks.2.layers.4.conv2.conv.weight', 'backbone.stages.2.blocks.2.layers.4.conv2.bn.weight', 'backbone.stages.2.blocks.2.layers.4.conv2.bn.bias', 'backbone.stages.2.blocks.2.layers.4.conv2.bn.running_mean', 'backbone.stages.2.blocks.2.layers.4.conv2.bn.running_var', 'backbone.stages.2.blocks.2.layers.4.conv2.bn.num_batches_tracked', 'backbone.stages.2.blocks.2.layers.5.conv1.conv.weight', 'backbone.stages.2.blocks.2.layers.5.conv1.bn.weight', 'backbone.stages.2.blocks.2.layers.5.conv1.bn.bias', 'backbone.stages.2.blocks.2.layers.5.conv1.bn.running_mean', 'backbone.stages.2.blocks.2.layers.5.conv1.bn.running_var', 'backbone.stages.2.blocks.2.layers.5.conv1.bn.num_batches_tracked', 'backbone.stages.2.blocks.2.layers.5.conv2.conv.weight', 'backbone.stages.2.blocks.2.layers.5.conv2.bn.weight', 'backbone.stages.2.blocks.2.layers.5.conv2.bn.bias', 'backbone.stages.2.blocks.2.layers.5.conv2.bn.running_mean', 'backbone.stages.2.blocks.2.layers.5.conv2.bn.running_var', 'backbone.stages.2.blocks.2.layers.5.conv2.bn.num_batches_tracked', 'backbone.stages.2.blocks.2.aggregation.0.conv.weight', 'backbone.stages.2.blocks.2.aggregation.0.bn.weight', 'backbone.stages.2.blocks.2.aggregation.0.bn.bias', 'backbone.stages.2.blocks.2.aggregation.0.bn.running_mean', 'backbone.stages.2.blocks.2.aggregation.0.bn.running_var', 'backbone.stages.2.blocks.2.aggregation.0.bn.num_batches_tracked', 'backbone.stages.2.blocks.2.aggregation.1.conv.weight', 'backbone.stages.2.blocks.2.aggregation.1.bn.weight', 'backbone.stages.2.blocks.2.aggregation.1.bn.bias', 'backbone.stages.2.blocks.2.aggregation.1.bn.running_mean', 'backbone.stages.2.blocks.2.aggregation.1.bn.running_var', 'backbone.stages.2.blocks.2.aggregation.1.bn.num_batches_tracked', 'backbone.stages.3.downsample.conv.weight', 'backbone.stages.3.downsample.bn.weight', 'backbone.stages.3.downsample.bn.bias', 'backbone.stages.3.downsample.bn.running_mean', 'backbone.stages.3.downsample.bn.running_var', 'backbone.stages.3.downsample.bn.num_batches_tracked', 'backbone.stages.3.blocks.0.layers.0.conv1.conv.weight', 'backbone.stages.3.blocks.0.layers.0.conv1.bn.weight', 'backbone.stages.3.blocks.0.layers.0.conv1.bn.bias', 'backbone.stages.3.blocks.0.layers.0.conv1.bn.running_mean', 'backbone.stages.3.blocks.0.layers.0.conv1.bn.running_var', 'backbone.stages.3.blocks.0.layers.0.conv1.bn.num_batches_tracked', 'backbone.stages.3.blocks.0.layers.0.conv2.conv.weight', 'backbone.stages.3.blocks.0.layers.0.conv2.bn.weight', 'backbone.stages.3.blocks.0.layers.0.conv2.bn.bias', 'backbone.stages.3.blocks.0.layers.0.conv2.bn.running_mean', 'backbone.stages.3.blocks.0.layers.0.conv2.bn.running_var', 'backbone.stages.3.blocks.0.layers.0.conv2.bn.num_batches_tracked', 'backbone.stages.3.blocks.0.layers.1.conv1.conv.weight', 'backbone.stages.3.blocks.0.layers.1.conv1.bn.weight', 'backbone.stages.3.blocks.0.layers.1.conv1.bn.bias', 'backbone.stages.3.blocks.0.layers.1.conv1.bn.running_mean', 'backbone.stages.3.blocks.0.layers.1.conv1.bn.running_var', 'backbone.stages.3.blocks.0.layers.1.conv1.bn.num_batches_tracked', 'backbone.stages.3.blocks.0.layers.1.conv2.conv.weight', 'backbone.stages.3.blocks.0.layers.1.conv2.bn.weight', 'backbone.stages.3.blocks.0.layers.1.conv2.bn.bias', 'backbone.stages.3.blocks.0.layers.1.conv2.bn.running_mean', 'backbone.stages.3.blocks.0.layers.1.conv2.bn.running_var', 'backbone.stages.3.blocks.0.layers.1.conv2.bn.num_batches_tracked', 'backbone.stages.3.blocks.0.layers.2.conv1.conv.weight', 'backbone.stages.3.blocks.0.layers.2.conv1.bn.weight', 'backbone.stages.3.blocks.0.layers.2.conv1.bn.bias', 'backbone.stages.3.blocks.0.layers.2.conv1.bn.running_mean', 'backbone.stages.3.blocks.0.layers.2.conv1.bn.running_var', 'backbone.stages.3.blocks.0.layers.2.conv1.bn.num_batches_tracked', 'backbone.stages.3.blocks.0.layers.2.conv2.conv.weight', 'backbone.stages.3.blocks.0.layers.2.conv2.bn.weight', 'backbone.stages.3.blocks.0.layers.2.conv2.bn.bias', 'backbone.stages.3.blocks.0.layers.2.conv2.bn.running_mean', 'backbone.stages.3.blocks.0.layers.2.conv2.bn.running_var', 'backbone.stages.3.blocks.0.layers.2.conv2.bn.num_batches_tracked', 'backbone.stages.3.blocks.0.layers.3.conv1.conv.weight', 'backbone.stages.3.blocks.0.layers.3.conv1.bn.weight', 'backbone.stages.3.blocks.0.layers.3.conv1.bn.bias', 'backbone.stages.3.blocks.0.layers.3.conv1.bn.running_mean', 'backbone.stages.3.blocks.0.layers.3.conv1.bn.running_var', 'backbone.stages.3.blocks.0.layers.3.conv1.bn.num_batches_tracked', 'backbone.stages.3.blocks.0.layers.3.conv2.conv.weight', 'backbone.stages.3.blocks.0.layers.3.conv2.bn.weight', 'backbone.stages.3.blocks.0.layers.3.conv2.bn.bias', 'backbone.stages.3.blocks.0.layers.3.conv2.bn.running_mean', 'backbone.stages.3.blocks.0.layers.3.conv2.bn.running_var', 'backbone.stages.3.blocks.0.layers.3.conv2.bn.num_batches_tracked', 'backbone.stages.3.blocks.0.layers.4.conv1.conv.weight', 'backbone.stages.3.blocks.0.layers.4.conv1.bn.weight', 'backbone.stages.3.blocks.0.layers.4.conv1.bn.bias', 'backbone.stages.3.blocks.0.layers.4.conv1.bn.running_mean', 'backbone.stages.3.blocks.0.layers.4.conv1.bn.running_var', 'backbone.stages.3.blocks.0.layers.4.conv1.bn.num_batches_tracked', 'backbone.stages.3.blocks.0.layers.4.conv2.conv.weight', 'backbone.stages.3.blocks.0.layers.4.conv2.bn.weight', 'backbone.stages.3.blocks.0.layers.4.conv2.bn.bias', 'backbone.stages.3.blocks.0.layers.4.conv2.bn.running_mean', 'backbone.stages.3.blocks.0.layers.4.conv2.bn.running_var', 'backbone.stages.3.blocks.0.layers.4.conv2.bn.num_batches_tracked', 'backbone.stages.3.blocks.0.layers.5.conv1.conv.weight', 'backbone.stages.3.blocks.0.layers.5.conv1.bn.weight', 'backbone.stages.3.blocks.0.layers.5.conv1.bn.bias', 'backbone.stages.3.blocks.0.layers.5.conv1.bn.running_mean', 'backbone.stages.3.blocks.0.layers.5.conv1.bn.running_var', 'backbone.stages.3.blocks.0.layers.5.conv1.bn.num_batches_tracked', 'backbone.stages.3.blocks.0.layers.5.conv2.conv.weight', 'backbone.stages.3.blocks.0.layers.5.conv2.bn.weight', 'backbone.stages.3.blocks.0.layers.5.conv2.bn.bias', 'backbone.stages.3.blocks.0.layers.5.conv2.bn.running_mean', 'backbone.stages.3.blocks.0.layers.5.conv2.bn.running_var', 'backbone.stages.3.blocks.0.layers.5.conv2.bn.num_batches_tracked', 'backbone.stages.3.blocks.0.aggregation.0.conv.weight', 'backbone.stages.3.blocks.0.aggregation.0.bn.weight', 'backbone.stages.3.blocks.0.aggregation.0.bn.bias', 'backbone.stages.3.blocks.0.aggregation.0.bn.running_mean', 'backbone.stages.3.blocks.0.aggregation.0.bn.running_var', 'backbone.stages.3.blocks.0.aggregation.0.bn.num_batches_tracked', 'backbone.stages.3.blocks.0.aggregation.1.conv.weight', 'backbone.stages.3.blocks.0.aggregation.1.bn.weight', 'backbone.stages.3.blocks.0.aggregation.1.bn.bias', 'backbone.stages.3.blocks.0.aggregation.1.bn.running_mean', 'backbone.stages.3.blocks.0.aggregation.1.bn.running_var', 'backbone.stages.3.blocks.0.aggregation.1.bn.num_batches_tracked', 'decoder.up', 'decoder.reg_scale', 'decoder.anchors', 'decoder.valid_mask', 'decoder.decoder.up', 'decoder.decoder.reg_scale', 'decoder.decoder.layers.0.self_attn.in_proj_weight', 'decoder.decoder.layers.0.self_attn.in_proj_bias', 'decoder.decoder.layers.0.self_attn.out_proj.weight', 'decoder.decoder.layers.0.self_attn.out_proj.bias', 'decoder.decoder.layers.0.norm1.weight', 'decoder.decoder.layers.0.norm1.bias', 'decoder.decoder.layers.0.cross_attn.num_points_scale', 'decoder.decoder.layers.0.cross_attn.sampling_offsets.weight', 'decoder.decoder.layers.0.cross_attn.sampling_offsets.bias', 'decoder.decoder.layers.0.cross_attn.attention_weights.weight', 'decoder.decoder.layers.0.cross_attn.attention_weights.bias', 'decoder.decoder.layers.0.gateway.gate.weight', 'decoder.decoder.layers.0.gateway.gate.bias', 'decoder.decoder.layers.0.gateway.norm.weight', 'decoder.decoder.layers.0.gateway.norm.bias', 'decoder.decoder.layers.0.linear1.weight', 'decoder.decoder.layers.0.linear1.bias', 'decoder.decoder.layers.0.linear2.weight', 'decoder.decoder.layers.0.linear2.bias', 'decoder.decoder.layers.0.norm3.weight', 'decoder.decoder.layers.0.norm3.bias', 'decoder.decoder.layers.1.self_attn.in_proj_weight', 'decoder.decoder.layers.1.self_attn.in_proj_bias', 'decoder.decoder.layers.1.self_attn.out_proj.weight', 'decoder.decoder.layers.1.self_attn.out_proj.bias', 'decoder.decoder.layers.1.norm1.weight', 'decoder.decoder.layers.1.norm1.bias', 'decoder.decoder.layers.1.cross_attn.num_points_scale', 'decoder.decoder.layers.1.cross_attn.sampling_offsets.weight', 'decoder.decoder.layers.1.cross_attn.sampling_offsets.bias', 'decoder.decoder.layers.1.cross_attn.attention_weights.weight', 'decoder.decoder.layers.1.cross_attn.attention_weights.bias', 'decoder.decoder.layers.1.gateway.gate.weight', 'decoder.decoder.layers.1.gateway.gate.bias', 'decoder.decoder.layers.1.gateway.norm.weight', 'decoder.decoder.layers.1.gateway.norm.bias', 'decoder.decoder.layers.1.linear1.weight', 'decoder.decoder.layers.1.linear1.bias', 'decoder.decoder.layers.1.linear2.weight', 'decoder.decoder.layers.1.linear2.bias', 'decoder.decoder.layers.1.norm3.weight', 'decoder.decoder.layers.1.norm3.bias', 'decoder.decoder.layers.2.self_attn.in_proj_weight', 'decoder.decoder.layers.2.self_attn.in_proj_bias', 'decoder.decoder.layers.2.self_attn.out_proj.weight', 'decoder.decoder.layers.2.self_attn.out_proj.bias', 'decoder.decoder.layers.2.norm1.weight', 'decoder.decoder.layers.2.norm1.bias', 'decoder.decoder.layers.2.cross_attn.num_points_scale', 'decoder.decoder.layers.2.cross_attn.sampling_offsets.weight', 'decoder.decoder.layers.2.cross_attn.sampling_offsets.bias', 'decoder.decoder.layers.2.cross_attn.attention_weights.weight', 'decoder.decoder.layers.2.cross_attn.attention_weights.bias', 'decoder.decoder.layers.2.gateway.gate.weight', 'decoder.decoder.layers.2.gateway.gate.bias', 'decoder.decoder.layers.2.gateway.norm.weight', 'decoder.decoder.layers.2.gateway.norm.bias', 'decoder.decoder.layers.2.linear1.weight', 'decoder.decoder.layers.2.linear1.bias', 'decoder.decoder.layers.2.linear2.weight', 'decoder.decoder.layers.2.linear2.bias', 'decoder.decoder.layers.2.norm3.weight', 'decoder.decoder.layers.2.norm3.bias', 'decoder.decoder.layers.3.self_attn.in_proj_weight', 'decoder.decoder.layers.3.self_attn.in_proj_bias', 'decoder.decoder.layers.3.self_attn.out_proj.weight', 'decoder.decoder.layers.3.self_attn.out_proj.bias', 'decoder.decoder.layers.3.norm1.weight', 'decoder.decoder.layers.3.norm1.bias', 'decoder.decoder.layers.3.cross_attn.num_points_scale', 'decoder.decoder.layers.3.cross_attn.sampling_offsets.weight', 'decoder.decoder.layers.3.cross_attn.sampling_offsets.bias', 'decoder.decoder.layers.3.cross_attn.attention_weights.weight', 'decoder.decoder.layers.3.cross_attn.attention_weights.bias', 'decoder.decoder.layers.3.gateway.gate.weight', 'decoder.decoder.layers.3.gateway.gate.bias', 'decoder.decoder.layers.3.gateway.norm.weight', 'decoder.decoder.layers.3.gateway.norm.bias', 'decoder.decoder.layers.3.linear1.weight', 'decoder.decoder.layers.3.linear1.bias', 'decoder.decoder.layers.3.linear2.weight', 'decoder.decoder.layers.3.linear2.bias', 'decoder.decoder.layers.3.norm3.weight', 'decoder.decoder.layers.3.norm3.bias', 'decoder.decoder.layers.4.self_attn.in_proj_weight', 'decoder.decoder.layers.4.self_attn.in_proj_bias', 'decoder.decoder.layers.4.self_attn.out_proj.weight', 'decoder.decoder.layers.4.self_attn.out_proj.bias', 'decoder.decoder.layers.4.norm1.weight', 'decoder.decoder.layers.4.norm1.bias', 'decoder.decoder.layers.4.cross_attn.num_points_scale', 'decoder.decoder.layers.4.cross_attn.sampling_offsets.weight', 'decoder.decoder.layers.4.cross_attn.sampling_offsets.bias', 'decoder.decoder.layers.4.cross_attn.attention_weights.weight', 'decoder.decoder.layers.4.cross_attn.attention_weights.bias', 'decoder.decoder.layers.4.gateway.gate.weight', 'decoder.decoder.layers.4.gateway.gate.bias', 'decoder.decoder.layers.4.gateway.norm.weight', 'decoder.decoder.layers.4.gateway.norm.bias', 'decoder.decoder.layers.4.linear1.weight', 'decoder.decoder.layers.4.linear1.bias', 'decoder.decoder.layers.4.linear2.weight', 'decoder.decoder.layers.4.linear2.bias', 'decoder.decoder.layers.4.norm3.weight', 'decoder.decoder.layers.4.norm3.bias', 'decoder.decoder.layers.5.self_attn.in_proj_weight', 'decoder.decoder.layers.5.self_attn.in_proj_bias', 'decoder.decoder.layers.5.self_attn.out_proj.weight', 'decoder.decoder.layers.5.self_attn.out_proj.bias', 'decoder.decoder.layers.5.norm1.weight', 'decoder.decoder.layers.5.norm1.bias', 'decoder.decoder.layers.5.cross_attn.num_points_scale', 'decoder.decoder.layers.5.cross_attn.sampling_offsets.weight', 'decoder.decoder.layers.5.cross_attn.sampling_offsets.bias', 'decoder.decoder.layers.5.cross_attn.attention_weights.weight', 'decoder.decoder.layers.5.cross_attn.attention_weights.bias', 'decoder.decoder.layers.5.gateway.gate.weight', 'decoder.decoder.layers.5.gateway.gate.bias', 'decoder.decoder.layers.5.gateway.norm.weight', 'decoder.decoder.layers.5.gateway.norm.bias', 'decoder.decoder.layers.5.linear1.weight', 'decoder.decoder.layers.5.linear1.bias', 'decoder.decoder.layers.5.linear2.weight', 'decoder.decoder.layers.5.linear2.bias', 'decoder.decoder.layers.5.norm3.weight', 'decoder.decoder.layers.5.norm3.bias', 'decoder.decoder.lqe_layers.0.reg_conf.layers.0.weight', 'decoder.decoder.lqe_layers.0.reg_conf.layers.0.bias', 'decoder.decoder.lqe_layers.0.reg_conf.layers.1.weight', 'decoder.decoder.lqe_layers.0.reg_conf.layers.1.bias', 'decoder.decoder.lqe_layers.1.reg_conf.layers.0.weight', 'decoder.decoder.lqe_layers.1.reg_conf.layers.0.bias', 'decoder.decoder.lqe_layers.1.reg_conf.layers.1.weight', 'decoder.decoder.lqe_layers.1.reg_conf.layers.1.bias', 'decoder.decoder.lqe_layers.2.reg_conf.layers.0.weight', 'decoder.decoder.lqe_layers.2.reg_conf.layers.0.bias', 'decoder.decoder.lqe_layers.2.reg_conf.layers.1.weight', 'decoder.decoder.lqe_layers.2.reg_conf.layers.1.bias', 'decoder.decoder.lqe_layers.3.reg_conf.layers.0.weight', 'decoder.decoder.lqe_layers.3.reg_conf.layers.0.bias', 'decoder.decoder.lqe_layers.3.reg_conf.layers.1.weight', 'decoder.decoder.lqe_layers.3.reg_conf.layers.1.bias', 'decoder.decoder.lqe_layers.4.reg_conf.layers.0.weight', 'decoder.decoder.lqe_layers.4.reg_conf.layers.0.bias', 'decoder.decoder.lqe_layers.4.reg_conf.layers.1.weight', 'decoder.decoder.lqe_layers.4.reg_conf.layers.1.bias', 'decoder.decoder.lqe_layers.5.reg_conf.layers.0.weight', 'decoder.decoder.lqe_layers.5.reg_conf.layers.0.bias', 'decoder.decoder.lqe_layers.5.reg_conf.layers.1.weight', 'decoder.decoder.lqe_layers.5.reg_conf.layers.1.bias', 'decoder.denoising_class_embed.weight', 'decoder.query_pos_head.layers.0.weight', 'decoder.query_pos_head.layers.0.bias', 'decoder.query_pos_head.layers.1.weight', 'decoder.query_pos_head.layers.1.bias', 'decoder.enc_output.proj.weight', 'decoder.enc_output.proj.bias', 'decoder.enc_output.norm.weight', 'decoder.enc_output.norm.bias', 'decoder.enc_score_head.weight', 'decoder.enc_score_head.bias', 'decoder.enc_bbox_head.layers.0.weight', 'decoder.enc_bbox_head.layers.0.bias', 'decoder.enc_bbox_head.layers.1.weight', 'decoder.enc_bbox_head.layers.1.bias', 'decoder.enc_bbox_head.layers.2.weight', 'decoder.enc_bbox_head.layers.2.bias', 'decoder.dec_score_head.0.weight', 'decoder.dec_score_head.0.bias', 'decoder.dec_score_head.1.weight', 'decoder.dec_score_head.1.bias', 'decoder.dec_score_head.2.weight', 'decoder.dec_score_head.2.bias', 'decoder.dec_score_head.3.weight', 'decoder.dec_score_head.3.bias', 'decoder.dec_score_head.4.weight', 'decoder.dec_score_head.4.bias', 'decoder.dec_score_head.5.weight', 'decoder.dec_score_head.5.bias', 'decoder.pre_bbox_head.layers.0.weight', 'decoder.pre_bbox_head.layers.0.bias', 'decoder.pre_bbox_head.layers.1.weight', 'decoder.pre_bbox_head.layers.1.bias', 'decoder.pre_bbox_head.layers.2.weight', 'decoder.pre_bbox_head.layers.2.bias', 'decoder.dec_bbox_head.0.layers.0.weight', 'decoder.dec_bbox_head.0.layers.0.bias', 'decoder.dec_bbox_head.0.layers.1.weight', 'decoder.dec_bbox_head.0.layers.1.bias', 'decoder.dec_bbox_head.0.layers.2.weight', 'decoder.dec_bbox_head.0.layers.2.bias', 'decoder.dec_bbox_head.1.layers.0.weight', 'decoder.dec_bbox_head.1.layers.0.bias', 'decoder.dec_bbox_head.1.layers.1.weight', 'decoder.dec_bbox_head.1.layers.1.bias', 'decoder.dec_bbox_head.1.layers.2.weight', 'decoder.dec_bbox_head.1.layers.2.bias', 'decoder.dec_bbox_head.2.layers.0.weight', 'decoder.dec_bbox_head.2.layers.0.bias', 'decoder.dec_bbox_head.2.layers.1.weight', 'decoder.dec_bbox_head.2.layers.1.bias', 'decoder.dec_bbox_head.2.layers.2.weight', 'decoder.dec_bbox_head.2.layers.2.bias', 'decoder.dec_bbox_head.3.layers.0.weight', 'decoder.dec_bbox_head.3.layers.0.bias', 'decoder.dec_bbox_head.3.layers.1.weight', 'decoder.dec_bbox_head.3.layers.1.bias', 'decoder.dec_bbox_head.3.layers.2.weight', 'decoder.dec_bbox_head.3.layers.2.bias', 'decoder.dec_bbox_head.4.layers.0.weight', 'decoder.dec_bbox_head.4.layers.0.bias', 'decoder.dec_bbox_head.4.layers.1.weight', 'decoder.dec_bbox_head.4.layers.1.bias', 'decoder.dec_bbox_head.4.layers.2.weight', 'decoder.dec_bbox_head.4.layers.2.bias', 'decoder.dec_bbox_head.5.layers.0.weight', 'decoder.dec_bbox_head.5.layers.0.bias', 'decoder.dec_bbox_head.5.layers.1.weight', 'decoder.dec_bbox_head.5.layers.1.bias', 'decoder.dec_bbox_head.5.layers.2.weight', 'decoder.dec_bbox_head.5.layers.2.bias', 'encoder.input_proj.0.conv.weight', 'encoder.input_proj.0.norm.weight', 'encoder.input_proj.0.norm.bias', 'encoder.input_proj.0.norm.running_mean', 'encoder.input_proj.0.norm.running_var', 'encoder.input_proj.0.norm.num_batches_tracked', 'encoder.input_proj.1.conv.weight', 'encoder.input_proj.1.norm.weight', 'encoder.input_proj.1.norm.bias', 'encoder.input_proj.1.norm.running_mean', 'encoder.input_proj.1.norm.running_var', 'encoder.input_proj.1.norm.num_batches_tracked', 'encoder.input_proj.2.conv.weight', 'encoder.input_proj.2.norm.weight', 'encoder.input_proj.2.norm.bias', 'encoder.input_proj.2.norm.running_mean', 'encoder.input_proj.2.norm.running_var', 'encoder.input_proj.2.norm.num_batches_tracked', 'encoder.encoder.0.layers.0.self_attn.in_proj_weight', 'encoder.encoder.0.layers.0.self_attn.in_proj_bias', 'encoder.encoder.0.layers.0.self_attn.out_proj.weight', 'encoder.encoder.0.layers.0.self_attn.out_proj.bias', 'encoder.encoder.0.layers.0.linear1.weight', 'encoder.encoder.0.layers.0.linear1.bias', 'encoder.encoder.0.layers.0.linear2.weight', 'encoder.encoder.0.layers.0.linear2.bias', 'encoder.encoder.0.layers.0.norm1.weight', 'encoder.encoder.0.layers.0.norm1.bias', 'encoder.encoder.0.layers.0.norm2.weight', 'encoder.encoder.0.layers.0.norm2.bias', 'encoder.lateral_convs.0.conv.weight', 'encoder.lateral_convs.0.norm.weight', 'encoder.lateral_convs.0.norm.bias', 'encoder.lateral_convs.0.norm.running_mean', 'encoder.lateral_convs.0.norm.running_var', 'encoder.lateral_convs.0.norm.num_batches_tracked', 'encoder.lateral_convs.1.conv.weight', 'encoder.lateral_convs.1.norm.weight', 'encoder.lateral_convs.1.norm.bias', 'encoder.lateral_convs.1.norm.running_mean', 'encoder.lateral_convs.1.norm.running_var', 'encoder.lateral_convs.1.norm.num_batches_tracked', 'encoder.fpn_blocks.0.cv1.conv.weight', 'encoder.fpn_blocks.0.cv1.norm.weight', 'encoder.fpn_blocks.0.cv1.norm.bias', 'encoder.fpn_blocks.0.cv1.norm.running_mean', 'encoder.fpn_blocks.0.cv1.norm.running_var', 'encoder.fpn_blocks.0.cv1.norm.num_batches_tracked', 'encoder.fpn_blocks.0.cv2.0.conv1.conv.weight', 'encoder.fpn_blocks.0.cv2.0.conv1.norm.weight', 'encoder.fpn_blocks.0.cv2.0.conv1.norm.bias', 'encoder.fpn_blocks.0.cv2.0.conv1.norm.running_mean', 'encoder.fpn_blocks.0.cv2.0.conv1.norm.running_var', 'encoder.fpn_blocks.0.cv2.0.conv1.norm.num_batches_tracked', 'encoder.fpn_blocks.0.cv2.0.conv2.conv.weight', 'encoder.fpn_blocks.0.cv2.0.conv2.norm.weight', 'encoder.fpn_blocks.0.cv2.0.conv2.norm.bias', 'encoder.fpn_blocks.0.cv2.0.conv2.norm.running_mean', 'encoder.fpn_blocks.0.cv2.0.conv2.norm.running_var', 'encoder.fpn_blocks.0.cv2.0.conv2.norm.num_batches_tracked', 'encoder.fpn_blocks.0.cv2.0.bottlenecks.0.conv1.conv.weight', 'encoder.fpn_blocks.0.cv2.0.bottlenecks.0.conv1.norm.weight', 'encoder.fpn_blocks.0.cv2.0.bottlenecks.0.conv1.norm.bias', 'encoder.fpn_blocks.0.cv2.0.bottlenecks.0.conv1.norm.running_mean', 'encoder.fpn_blocks.0.cv2.0.bottlenecks.0.conv1.norm.running_var', 'encoder.fpn_blocks.0.cv2.0.bottlenecks.0.conv1.norm.num_batches_tracked', 'encoder.fpn_blocks.0.cv2.0.bottlenecks.0.conv2.conv.weight', 'encoder.fpn_blocks.0.cv2.0.bottlenecks.0.conv2.norm.weight', 'encoder.fpn_blocks.0.cv2.0.bottlenecks.0.conv2.norm.bias', 'encoder.fpn_blocks.0.cv2.0.bottlenecks.0.conv2.norm.running_mean', 'encoder.fpn_blocks.0.cv2.0.bottlenecks.0.conv2.norm.running_var', 'encoder.fpn_blocks.0.cv2.0.bottlenecks.0.conv2.norm.num_batches_tracked', 'encoder.fpn_blocks.0.cv2.0.bottlenecks.1.conv1.conv.weight', 'encoder.fpn_blocks.0.cv2.0.bottlenecks.1.conv1.norm.weight', 'encoder.fpn_blocks.0.cv2.0.bottlenecks.1.conv1.norm.bias', 'encoder.fpn_blocks.0.cv2.0.bottlenecks.1.conv1.norm.running_mean', 'encoder.fpn_blocks.0.cv2.0.bottlenecks.1.conv1.norm.running_var', 'encoder.fpn_blocks.0.cv2.0.bottlenecks.1.conv1.norm.num_batches_tracked', 'encoder.fpn_blocks.0.cv2.0.bottlenecks.1.conv2.conv.weight', 'encoder.fpn_blocks.0.cv2.0.bottlenecks.1.conv2.norm.weight', 'encoder.fpn_blocks.0.cv2.0.bottlenecks.1.conv2.norm.bias', 'encoder.fpn_blocks.0.cv2.0.bottlenecks.1.conv2.norm.running_mean', 'encoder.fpn_blocks.0.cv2.0.bottlenecks.1.conv2.norm.running_var', 'encoder.fpn_blocks.0.cv2.0.bottlenecks.1.conv2.norm.num_batches_tracked', 'encoder.fpn_blocks.0.cv2.0.bottlenecks.2.conv1.conv.weight', 'encoder.fpn_blocks.0.cv2.0.bottlenecks.2.conv1.norm.weight', 'encoder.fpn_blocks.0.cv2.0.bottlenecks.2.conv1.norm.bias', 'encoder.fpn_blocks.0.cv2.0.bottlenecks.2.conv1.norm.running_mean', 'encoder.fpn_blocks.0.cv2.0.bottlenecks.2.conv1.norm.running_var', 'encoder.fpn_blocks.0.cv2.0.bottlenecks.2.conv1.norm.num_batches_tracked', 'encoder.fpn_blocks.0.cv2.0.bottlenecks.2.conv2.conv.weight', 'encoder.fpn_blocks.0.cv2.0.bottlenecks.2.conv2.norm.weight', 'encoder.fpn_blocks.0.cv2.0.bottlenecks.2.conv2.norm.bias', 'encoder.fpn_blocks.0.cv2.0.bottlenecks.2.conv2.norm.running_mean', 'encoder.fpn_blocks.0.cv2.0.bottlenecks.2.conv2.norm.running_var', 'encoder.fpn_blocks.0.cv2.0.bottlenecks.2.conv2.norm.num_batches_tracked', 'encoder.fpn_blocks.0.cv2.1.conv.weight', 'encoder.fpn_blocks.0.cv2.1.norm.weight', 'encoder.fpn_blocks.0.cv2.1.norm.bias', 'encoder.fpn_blocks.0.cv2.1.norm.running_mean', 'encoder.fpn_blocks.0.cv2.1.norm.running_var', 'encoder.fpn_blocks.0.cv2.1.norm.num_batches_tracked', 'encoder.fpn_blocks.0.cv3.0.conv1.conv.weight', 'encoder.fpn_blocks.0.cv3.0.conv1.norm.weight', 'encoder.fpn_blocks.0.cv3.0.conv1.norm.bias', 'encoder.fpn_blocks.0.cv3.0.conv1.norm.running_mean', 'encoder.fpn_blocks.0.cv3.0.conv1.norm.running_var', 'encoder.fpn_blocks.0.cv3.0.conv1.norm.num_batches_tracked', 'encoder.fpn_blocks.0.cv3.0.conv2.conv.weight', 'encoder.fpn_blocks.0.cv3.0.conv2.norm.weight', 'encoder.fpn_blocks.0.cv3.0.conv2.norm.bias', 'encoder.fpn_blocks.0.cv3.0.conv2.norm.running_mean', 'encoder.fpn_blocks.0.cv3.0.conv2.norm.running_var', 'encoder.fpn_blocks.0.cv3.0.conv2.norm.num_batches_tracked', 'encoder.fpn_blocks.0.cv3.0.bottlenecks.0.conv1.conv.weight', 'encoder.fpn_blocks.0.cv3.0.bottlenecks.0.conv1.norm.weight', 'encoder.fpn_blocks.0.cv3.0.bottlenecks.0.conv1.norm.bias', 'encoder.fpn_blocks.0.cv3.0.bottlenecks.0.conv1.norm.running_mean', 'encoder.fpn_blocks.0.cv3.0.bottlenecks.0.conv1.norm.running_var', 'encoder.fpn_blocks.0.cv3.0.bottlenecks.0.conv1.norm.num_batches_tracked', 'encoder.fpn_blocks.0.cv3.0.bottlenecks.0.conv2.conv.weight', 'encoder.fpn_blocks.0.cv3.0.bottlenecks.0.conv2.norm.weight', 'encoder.fpn_blocks.0.cv3.0.bottlenecks.0.conv2.norm.bias', 'encoder.fpn_blocks.0.cv3.0.bottlenecks.0.conv2.norm.running_mean', 'encoder.fpn_blocks.0.cv3.0.bottlenecks.0.conv2.norm.running_var', 'encoder.fpn_blocks.0.cv3.0.bottlenecks.0.conv2.norm.num_batches_tracked', 'encoder.fpn_blocks.0.cv3.0.bottlenecks.1.conv1.conv.weight', 'encoder.fpn_blocks.0.cv3.0.bottlenecks.1.conv1.norm.weight', 'encoder.fpn_blocks.0.cv3.0.bottlenecks.1.conv1.norm.bias', 'encoder.fpn_blocks.0.cv3.0.bottlenecks.1.conv1.norm.running_mean', 'encoder.fpn_blocks.0.cv3.0.bottlenecks.1.conv1.norm.running_var', 'encoder.fpn_blocks.0.cv3.0.bottlenecks.1.conv1.norm.num_batches_tracked', 'encoder.fpn_blocks.0.cv3.0.bottlenecks.1.conv2.conv.weight', 'encoder.fpn_blocks.0.cv3.0.bottlenecks.1.conv2.norm.weight', 'encoder.fpn_blocks.0.cv3.0.bottlenecks.1.conv2.norm.bias', 'encoder.fpn_blocks.0.cv3.0.bottlenecks.1.conv2.norm.running_mean', 'encoder.fpn_blocks.0.cv3.0.bottlenecks.1.conv2.norm.running_var', 'encoder.fpn_blocks.0.cv3.0.bottlenecks.1.conv2.norm.num_batches_tracked', 'encoder.fpn_blocks.0.cv3.0.bottlenecks.2.conv1.conv.weight', 'encoder.fpn_blocks.0.cv3.0.bottlenecks.2.conv1.norm.weight', 'encoder.fpn_blocks.0.cv3.0.bottlenecks.2.conv1.norm.bias', 'encoder.fpn_blocks.0.cv3.0.bottlenecks.2.conv1.norm.running_mean', 'encoder.fpn_blocks.0.cv3.0.bottlenecks.2.conv1.norm.running_var', 'encoder.fpn_blocks.0.cv3.0.bottlenecks.2.conv1.norm.num_batches_tracked', 'encoder.fpn_blocks.0.cv3.0.bottlenecks.2.conv2.conv.weight', 'encoder.fpn_blocks.0.cv3.0.bottlenecks.2.conv2.norm.weight', 'encoder.fpn_blocks.0.cv3.0.bottlenecks.2.conv2.norm.bias', 'encoder.fpn_blocks.0.cv3.0.bottlenecks.2.conv2.norm.running_mean', 'encoder.fpn_blocks.0.cv3.0.bottlenecks.2.conv2.norm.running_var', 'encoder.fpn_blocks.0.cv3.0.bottlenecks.2.conv2.norm.num_batches_tracked', 'encoder.fpn_blocks.0.cv3.1.conv.weight', 'encoder.fpn_blocks.0.cv3.1.norm.weight', 'encoder.fpn_blocks.0.cv3.1.norm.bias', 'encoder.fpn_blocks.0.cv3.1.norm.running_mean', 'encoder.fpn_blocks.0.cv3.1.norm.running_var', 'encoder.fpn_blocks.0.cv3.1.norm.num_batches_tracked', 'encoder.fpn_blocks.0.cv4.conv.weight', 'encoder.fpn_blocks.0.cv4.norm.weight', 'encoder.fpn_blocks.0.cv4.norm.bias', 'encoder.fpn_blocks.0.cv4.norm.running_mean', 'encoder.fpn_blocks.0.cv4.norm.running_var', 'encoder.fpn_blocks.0.cv4.norm.num_batches_tracked', 'encoder.fpn_blocks.1.cv1.conv.weight', 'encoder.fpn_blocks.1.cv1.norm.weight', 'encoder.fpn_blocks.1.cv1.norm.bias', 'encoder.fpn_blocks.1.cv1.norm.running_mean', 'encoder.fpn_blocks.1.cv1.norm.running_var', 'encoder.fpn_blocks.1.cv1.norm.num_batches_tracked', 'encoder.fpn_blocks.1.cv2.0.conv1.conv.weight', 'encoder.fpn_blocks.1.cv2.0.conv1.norm.weight', 'encoder.fpn_blocks.1.cv2.0.conv1.norm.bias', 'encoder.fpn_blocks.1.cv2.0.conv1.norm.running_mean', 'encoder.fpn_blocks.1.cv2.0.conv1.norm.running_var', 'encoder.fpn_blocks.1.cv2.0.conv1.norm.num_batches_tracked', 'encoder.fpn_blocks.1.cv2.0.conv2.conv.weight', 'encoder.fpn_blocks.1.cv2.0.conv2.norm.weight', 'encoder.fpn_blocks.1.cv2.0.conv2.norm.bias', 'encoder.fpn_blocks.1.cv2.0.conv2.norm.running_mean', 'encoder.fpn_blocks.1.cv2.0.conv2.norm.running_var', 'encoder.fpn_blocks.1.cv2.0.conv2.norm.num_batches_tracked', 'encoder.fpn_blocks.1.cv2.0.bottlenecks.0.conv1.conv.weight', 'encoder.fpn_blocks.1.cv2.0.bottlenecks.0.conv1.norm.weight', 'encoder.fpn_blocks.1.cv2.0.bottlenecks.0.conv1.norm.bias', 'encoder.fpn_blocks.1.cv2.0.bottlenecks.0.conv1.norm.running_mean', 'encoder.fpn_blocks.1.cv2.0.bottlenecks.0.conv1.norm.running_var', 'encoder.fpn_blocks.1.cv2.0.bottlenecks.0.conv1.norm.num_batches_tracked', 'encoder.fpn_blocks.1.cv2.0.bottlenecks.0.conv2.conv.weight', 'encoder.fpn_blocks.1.cv2.0.bottlenecks.0.conv2.norm.weight', 'encoder.fpn_blocks.1.cv2.0.bottlenecks.0.conv2.norm.bias', 'encoder.fpn_blocks.1.cv2.0.bottlenecks.0.conv2.norm.running_mean', 'encoder.fpn_blocks.1.cv2.0.bottlenecks.0.conv2.norm.running_var', 'encoder.fpn_blocks.1.cv2.0.bottlenecks.0.conv2.norm.num_batches_tracked', 'encoder.fpn_blocks.1.cv2.0.bottlenecks.1.conv1.conv.weight', 'encoder.fpn_blocks.1.cv2.0.bottlenecks.1.conv1.norm.weight', 'encoder.fpn_blocks.1.cv2.0.bottlenecks.1.conv1.norm.bias', 'encoder.fpn_blocks.1.cv2.0.bottlenecks.1.conv1.norm.running_mean', 'encoder.fpn_blocks.1.cv2.0.bottlenecks.1.conv1.norm.running_var', 'encoder.fpn_blocks.1.cv2.0.bottlenecks.1.conv1.norm.num_batches_tracked', 'encoder.fpn_blocks.1.cv2.0.bottlenecks.1.conv2.conv.weight', 'encoder.fpn_blocks.1.cv2.0.bottlenecks.1.conv2.norm.weight', 'encoder.fpn_blocks.1.cv2.0.bottlenecks.1.conv2.norm.bias', 'encoder.fpn_blocks.1.cv2.0.bottlenecks.1.conv2.norm.running_mean', 'encoder.fpn_blocks.1.cv2.0.bottlenecks.1.conv2.norm.running_var', 'encoder.fpn_blocks.1.cv2.0.bottlenecks.1.conv2.norm.num_batches_tracked', 'encoder.fpn_blocks.1.cv2.0.bottlenecks.2.conv1.conv.weight', 'encoder.fpn_blocks.1.cv2.0.bottlenecks.2.conv1.norm.weight', 'encoder.fpn_blocks.1.cv2.0.bottlenecks.2.conv1.norm.bias', 'encoder.fpn_blocks.1.cv2.0.bottlenecks.2.conv1.norm.running_mean', 'encoder.fpn_blocks.1.cv2.0.bottlenecks.2.conv1.norm.running_var', 'encoder.fpn_blocks.1.cv2.0.bottlenecks.2.conv1.norm.num_batches_tracked', 'encoder.fpn_blocks.1.cv2.0.bottlenecks.2.conv2.conv.weight', 'encoder.fpn_blocks.1.cv2.0.bottlenecks.2.conv2.norm.weight', 'encoder.fpn_blocks.1.cv2.0.bottlenecks.2.conv2.norm.bias', 'encoder.fpn_blocks.1.cv2.0.bottlenecks.2.conv2.norm.running_mean', 'encoder.fpn_blocks.1.cv2.0.bottlenecks.2.conv2.norm.running_var', 'encoder.fpn_blocks.1.cv2.0.bottlenecks.2.conv2.norm.num_batches_tracked', 'encoder.fpn_blocks.1.cv2.1.conv.weight', 'encoder.fpn_blocks.1.cv2.1.norm.weight', 'encoder.fpn_blocks.1.cv2.1.norm.bias', 'encoder.fpn_blocks.1.cv2.1.norm.running_mean', 'encoder.fpn_blocks.1.cv2.1.norm.running_var', 'encoder.fpn_blocks.1.cv2.1.norm.num_batches_tracked', 'encoder.fpn_blocks.1.cv3.0.conv1.conv.weight', 'encoder.fpn_blocks.1.cv3.0.conv1.norm.weight', 'encoder.fpn_blocks.1.cv3.0.conv1.norm.bias', 'encoder.fpn_blocks.1.cv3.0.conv1.norm.running_mean', 'encoder.fpn_blocks.1.cv3.0.conv1.norm.running_var', 'encoder.fpn_blocks.1.cv3.0.conv1.norm.num_batches_tracked', 'encoder.fpn_blocks.1.cv3.0.conv2.conv.weight', 'encoder.fpn_blocks.1.cv3.0.conv2.norm.weight', 'encoder.fpn_blocks.1.cv3.0.conv2.norm.bias', 'encoder.fpn_blocks.1.cv3.0.conv2.norm.running_mean', 'encoder.fpn_blocks.1.cv3.0.conv2.norm.running_var', 'encoder.fpn_blocks.1.cv3.0.conv2.norm.num_batches_tracked', 'encoder.fpn_blocks.1.cv3.0.bottlenecks.0.conv1.conv.weight', 'encoder.fpn_blocks.1.cv3.0.bottlenecks.0.conv1.norm.weight', 'encoder.fpn_blocks.1.cv3.0.bottlenecks.0.conv1.norm.bias', 'encoder.fpn_blocks.1.cv3.0.bottlenecks.0.conv1.norm.running_mean', 'encoder.fpn_blocks.1.cv3.0.bottlenecks.0.conv1.norm.running_var', 'encoder.fpn_blocks.1.cv3.0.bottlenecks.0.conv1.norm.num_batches_tracked', 'encoder.fpn_blocks.1.cv3.0.bottlenecks.0.conv2.conv.weight', 'encoder.fpn_blocks.1.cv3.0.bottlenecks.0.conv2.norm.weight', 'encoder.fpn_blocks.1.cv3.0.bottlenecks.0.conv2.norm.bias', 'encoder.fpn_blocks.1.cv3.0.bottlenecks.0.conv2.norm.running_mean', 'encoder.fpn_blocks.1.cv3.0.bottlenecks.0.conv2.norm.running_var', 'encoder.fpn_blocks.1.cv3.0.bottlenecks.0.conv2.norm.num_batches_tracked', 'encoder.fpn_blocks.1.cv3.0.bottlenecks.1.conv1.conv.weight', 'encoder.fpn_blocks.1.cv3.0.bottlenecks.1.conv1.norm.weight', 'encoder.fpn_blocks.1.cv3.0.bottlenecks.1.conv1.norm.bias', 'encoder.fpn_blocks.1.cv3.0.bottlenecks.1.conv1.norm.running_mean', 'encoder.fpn_blocks.1.cv3.0.bottlenecks.1.conv1.norm.running_var', 'encoder.fpn_blocks.1.cv3.0.bottlenecks.1.conv1.norm.num_batches_tracked', 'encoder.fpn_blocks.1.cv3.0.bottlenecks.1.conv2.conv.weight', 'encoder.fpn_blocks.1.cv3.0.bottlenecks.1.conv2.norm.weight', 'encoder.fpn_blocks.1.cv3.0.bottlenecks.1.conv2.norm.bias', 'encoder.fpn_blocks.1.cv3.0.bottlenecks.1.conv2.norm.running_mean', 'encoder.fpn_blocks.1.cv3.0.bottlenecks.1.conv2.norm.running_var', 'encoder.fpn_blocks.1.cv3.0.bottlenecks.1.conv2.norm.num_batches_tracked', 'encoder.fpn_blocks.1.cv3.0.bottlenecks.2.conv1.conv.weight', 'encoder.fpn_blocks.1.cv3.0.bottlenecks.2.conv1.norm.weight', 'encoder.fpn_blocks.1.cv3.0.bottlenecks.2.conv1.norm.bias', 'encoder.fpn_blocks.1.cv3.0.bottlenecks.2.conv1.norm.running_mean', 'encoder.fpn_blocks.1.cv3.0.bottlenecks.2.conv1.norm.running_var', 'encoder.fpn_blocks.1.cv3.0.bottlenecks.2.conv1.norm.num_batches_tracked', 'encoder.fpn_blocks.1.cv3.0.bottlenecks.2.conv2.conv.weight', 'encoder.fpn_blocks.1.cv3.0.bottlenecks.2.conv2.norm.weight', 'encoder.fpn_blocks.1.cv3.0.bottlenecks.2.conv2.norm.bias', 'encoder.fpn_blocks.1.cv3.0.bottlenecks.2.conv2.norm.running_mean', 'encoder.fpn_blocks.1.cv3.0.bottlenecks.2.conv2.norm.running_var', 'encoder.fpn_blocks.1.cv3.0.bottlenecks.2.conv2.norm.num_batches_tracked', 'encoder.fpn_blocks.1.cv3.1.conv.weight', 'encoder.fpn_blocks.1.cv3.1.norm.weight', 'encoder.fpn_blocks.1.cv3.1.norm.bias', 'encoder.fpn_blocks.1.cv3.1.norm.running_mean', 'encoder.fpn_blocks.1.cv3.1.norm.running_var', 'encoder.fpn_blocks.1.cv3.1.norm.num_batches_tracked', 'encoder.fpn_blocks.1.cv4.conv.weight', 'encoder.fpn_blocks.1.cv4.norm.weight', 'encoder.fpn_blocks.1.cv4.norm.bias', 'encoder.fpn_blocks.1.cv4.norm.running_mean', 'encoder.fpn_blocks.1.cv4.norm.running_var', 'encoder.fpn_blocks.1.cv4.norm.num_batches_tracked', 'encoder.downsample_convs.0.0.cv1.conv.weight', 'encoder.downsample_convs.0.0.cv1.norm.weight', 'encoder.downsample_convs.0.0.cv1.norm.bias', 'encoder.downsample_convs.0.0.cv1.norm.running_mean', 'encoder.downsample_convs.0.0.cv1.norm.running_var', 'encoder.downsample_convs.0.0.cv1.norm.num_batches_tracked', 'encoder.downsample_convs.0.0.cv2.conv.weight', 'encoder.downsample_convs.0.0.cv2.norm.weight', 'encoder.downsample_convs.0.0.cv2.norm.bias', 'encoder.downsample_convs.0.0.cv2.norm.running_mean', 'encoder.downsample_convs.0.0.cv2.norm.running_var', 'encoder.downsample_convs.0.0.cv2.norm.num_batches_tracked', 'encoder.downsample_convs.1.0.cv1.conv.weight', 'encoder.downsample_convs.1.0.cv1.norm.weight', 'encoder.downsample_convs.1.0.cv1.norm.bias', 'encoder.downsample_convs.1.0.cv1.norm.running_mean', 'encoder.downsample_convs.1.0.cv1.norm.running_var', 'encoder.downsample_convs.1.0.cv1.norm.num_batches_tracked', 'encoder.downsample_convs.1.0.cv2.conv.weight', 'encoder.downsample_convs.1.0.cv2.norm.weight', 'encoder.downsample_convs.1.0.cv2.norm.bias', 'encoder.downsample_convs.1.0.cv2.norm.running_mean', 'encoder.downsample_convs.1.0.cv2.norm.running_var', 'encoder.downsample_convs.1.0.cv2.norm.num_batches_tracked', 'encoder.pan_blocks.0.cv1.conv.weight', 'encoder.pan_blocks.0.cv1.norm.weight', 'encoder.pan_blocks.0.cv1.norm.bias', 'encoder.pan_blocks.0.cv1.norm.running_mean', 'encoder.pan_blocks.0.cv1.norm.running_var', 'encoder.pan_blocks.0.cv1.norm.num_batches_tracked', 'encoder.pan_blocks.0.cv2.0.conv1.conv.weight', 'encoder.pan_blocks.0.cv2.0.conv1.norm.weight', 'encoder.pan_blocks.0.cv2.0.conv1.norm.bias', 'encoder.pan_blocks.0.cv2.0.conv1.norm.running_mean', 'encoder.pan_blocks.0.cv2.0.conv1.norm.running_var', 'encoder.pan_blocks.0.cv2.0.conv1.norm.num_batches_tracked', 'encoder.pan_blocks.0.cv2.0.conv2.conv.weight', 'encoder.pan_blocks.0.cv2.0.conv2.norm.weight', 'encoder.pan_blocks.0.cv2.0.conv2.norm.bias', 'encoder.pan_blocks.0.cv2.0.conv2.norm.running_mean', 'encoder.pan_blocks.0.cv2.0.conv2.norm.running_var', 'encoder.pan_blocks.0.cv2.0.conv2.norm.num_batches_tracked', 'encoder.pan_blocks.0.cv2.0.bottlenecks.0.conv1.conv.weight', 'encoder.pan_blocks.0.cv2.0.bottlenecks.0.conv1.norm.weight', 'encoder.pan_blocks.0.cv2.0.bottlenecks.0.conv1.norm.bias', 'encoder.pan_blocks.0.cv2.0.bottlenecks.0.conv1.norm.running_mean', 'encoder.pan_blocks.0.cv2.0.bottlenecks.0.conv1.norm.running_var', 'encoder.pan_blocks.0.cv2.0.bottlenecks.0.conv1.norm.num_batches_tracked', 'encoder.pan_blocks.0.cv2.0.bottlenecks.0.conv2.conv.weight', 'encoder.pan_blocks.0.cv2.0.bottlenecks.0.conv2.norm.weight', 'encoder.pan_blocks.0.cv2.0.bottlenecks.0.conv2.norm.bias', 'encoder.pan_blocks.0.cv2.0.bottlenecks.0.conv2.norm.running_mean', 'encoder.pan_blocks.0.cv2.0.bottlenecks.0.conv2.norm.running_var', 'encoder.pan_blocks.0.cv2.0.bottlenecks.0.conv2.norm.num_batches_tracked', 'encoder.pan_blocks.0.cv2.0.bottlenecks.1.conv1.conv.weight', 'encoder.pan_blocks.0.cv2.0.bottlenecks.1.conv1.norm.weight', 'encoder.pan_blocks.0.cv2.0.bottlenecks.1.conv1.norm.bias', 'encoder.pan_blocks.0.cv2.0.bottlenecks.1.conv1.norm.running_mean', 'encoder.pan_blocks.0.cv2.0.bottlenecks.1.conv1.norm.running_var', 'encoder.pan_blocks.0.cv2.0.bottlenecks.1.conv1.norm.num_batches_tracked', 'encoder.pan_blocks.0.cv2.0.bottlenecks.1.conv2.conv.weight', 'encoder.pan_blocks.0.cv2.0.bottlenecks.1.conv2.norm.weight', 'encoder.pan_blocks.0.cv2.0.bottlenecks.1.conv2.norm.bias', 'encoder.pan_blocks.0.cv2.0.bottlenecks.1.conv2.norm.running_mean', 'encoder.pan_blocks.0.cv2.0.bottlenecks.1.conv2.norm.running_var', 'encoder.pan_blocks.0.cv2.0.bottlenecks.1.conv2.norm.num_batches_tracked', 'encoder.pan_blocks.0.cv2.0.bottlenecks.2.conv1.conv.weight', 'encoder.pan_blocks.0.cv2.0.bottlenecks.2.conv1.norm.weight', 'encoder.pan_blocks.0.cv2.0.bottlenecks.2.conv1.norm.bias', 'encoder.pan_blocks.0.cv2.0.bottlenecks.2.conv1.norm.running_mean', 'encoder.pan_blocks.0.cv2.0.bottlenecks.2.conv1.norm.running_var', 'encoder.pan_blocks.0.cv2.0.bottlenecks.2.conv1.norm.num_batches_tracked', 'encoder.pan_blocks.0.cv2.0.bottlenecks.2.conv2.conv.weight', 'encoder.pan_blocks.0.cv2.0.bottlenecks.2.conv2.norm.weight', 'encoder.pan_blocks.0.cv2.0.bottlenecks.2.conv2.norm.bias', 'encoder.pan_blocks.0.cv2.0.bottlenecks.2.conv2.norm.running_mean', 'encoder.pan_blocks.0.cv2.0.bottlenecks.2.conv2.norm.running_var', 'encoder.pan_blocks.0.cv2.0.bottlenecks.2.conv2.norm.num_batches_tracked', 'encoder.pan_blocks.0.cv2.1.conv.weight', 'encoder.pan_blocks.0.cv2.1.norm.weight', 'encoder.pan_blocks.0.cv2.1.norm.bias', 'encoder.pan_blocks.0.cv2.1.norm.running_mean', 'encoder.pan_blocks.0.cv2.1.norm.running_var', 'encoder.pan_blocks.0.cv2.1.norm.num_batches_tracked', 'encoder.pan_blocks.0.cv3.0.conv1.conv.weight', 'encoder.pan_blocks.0.cv3.0.conv1.norm.weight', 'encoder.pan_blocks.0.cv3.0.conv1.norm.bias', 'encoder.pan_blocks.0.cv3.0.conv1.norm.running_mean', 'encoder.pan_blocks.0.cv3.0.conv1.norm.running_var', 'encoder.pan_blocks.0.cv3.0.conv1.norm.num_batches_tracked', 'encoder.pan_blocks.0.cv3.0.conv2.conv.weight', 'encoder.pan_blocks.0.cv3.0.conv2.norm.weight', 'encoder.pan_blocks.0.cv3.0.conv2.norm.bias', 'encoder.pan_blocks.0.cv3.0.conv2.norm.running_mean', 'encoder.pan_blocks.0.cv3.0.conv2.norm.running_var', 'encoder.pan_blocks.0.cv3.0.conv2.norm.num_batches_tracked', 'encoder.pan_blocks.0.cv3.0.bottlenecks.0.conv1.conv.weight', 'encoder.pan_blocks.0.cv3.0.bottlenecks.0.conv1.norm.weight', 'encoder.pan_blocks.0.cv3.0.bottlenecks.0.conv1.norm.bias', 'encoder.pan_blocks.0.cv3.0.bottlenecks.0.conv1.norm.running_mean', 'encoder.pan_blocks.0.cv3.0.bottlenecks.0.conv1.norm.running_var', 'encoder.pan_blocks.0.cv3.0.bottlenecks.0.conv1.norm.num_batches_tracked', 'encoder.pan_blocks.0.cv3.0.bottlenecks.0.conv2.conv.weight', 'encoder.pan_blocks.0.cv3.0.bottlenecks.0.conv2.norm.weight', 'encoder.pan_blocks.0.cv3.0.bottlenecks.0.conv2.norm.bias', 'encoder.pan_blocks.0.cv3.0.bottlenecks.0.conv2.norm.running_mean', 'encoder.pan_blocks.0.cv3.0.bottlenecks.0.conv2.norm.running_var', 'encoder.pan_blocks.0.cv3.0.bottlenecks.0.conv2.norm.num_batches_tracked', 'encoder.pan_blocks.0.cv3.0.bottlenecks.1.conv1.conv.weight', 'encoder.pan_blocks.0.cv3.0.bottlenecks.1.conv1.norm.weight', 'encoder.pan_blocks.0.cv3.0.bottlenecks.1.conv1.norm.bias', 'encoder.pan_blocks.0.cv3.0.bottlenecks.1.conv1.norm.running_mean', 'encoder.pan_blocks.0.cv3.0.bottlenecks.1.conv1.norm.running_var', 'encoder.pan_blocks.0.cv3.0.bottlenecks.1.conv1.norm.num_batches_tracked', 'encoder.pan_blocks.0.cv3.0.bottlenecks.1.conv2.conv.weight', 'encoder.pan_blocks.0.cv3.0.bottlenecks.1.conv2.norm.weight', 'encoder.pan_blocks.0.cv3.0.bottlenecks.1.conv2.norm.bias', 'encoder.pan_blocks.0.cv3.0.bottlenecks.1.conv2.norm.running_mean', 'encoder.pan_blocks.0.cv3.0.bottlenecks.1.conv2.norm.running_var', 'encoder.pan_blocks.0.cv3.0.bottlenecks.1.conv2.norm.num_batches_tracked', 'encoder.pan_blocks.0.cv3.0.bottlenecks.2.conv1.conv.weight', 'encoder.pan_blocks.0.cv3.0.bottlenecks.2.conv1.norm.weight', 'encoder.pan_blocks.0.cv3.0.bottlenecks.2.conv1.norm.bias', 'encoder.pan_blocks.0.cv3.0.bottlenecks.2.conv1.norm.running_mean', 'encoder.pan_blocks.0.cv3.0.bottlenecks.2.conv1.norm.running_var', 'encoder.pan_blocks.0.cv3.0.bottlenecks.2.conv1.norm.num_batches_tracked', 'encoder.pan_blocks.0.cv3.0.bottlenecks.2.conv2.conv.weight', 'encoder.pan_blocks.0.cv3.0.bottlenecks.2.conv2.norm.weight', 'encoder.pan_blocks.0.cv3.0.bottlenecks.2.conv2.norm.bias', 'encoder.pan_blocks.0.cv3.0.bottlenecks.2.conv2.norm.running_mean', 'encoder.pan_blocks.0.cv3.0.bottlenecks.2.conv2.norm.running_var', 'encoder.pan_blocks.0.cv3.0.bottlenecks.2.conv2.norm.num_batches_tracked', 'encoder.pan_blocks.0.cv3.1.conv.weight', 'encoder.pan_blocks.0.cv3.1.norm.weight', 'encoder.pan_blocks.0.cv3.1.norm.bias', 'encoder.pan_blocks.0.cv3.1.norm.running_mean', 'encoder.pan_blocks.0.cv3.1.norm.running_var', 'encoder.pan_blocks.0.cv3.1.norm.num_batches_tracked', 'encoder.pan_blocks.0.cv4.conv.weight', 'encoder.pan_blocks.0.cv4.norm.weight', 'encoder.pan_blocks.0.cv4.norm.bias', 'encoder.pan_blocks.0.cv4.norm.running_mean', 'encoder.pan_blocks.0.cv4.norm.running_var', 'encoder.pan_blocks.0.cv4.norm.num_batches_tracked', 'encoder.pan_blocks.1.cv1.conv.weight', 'encoder.pan_blocks.1.cv1.norm.weight', 'encoder.pan_blocks.1.cv1.norm.bias', 'encoder.pan_blocks.1.cv1.norm.running_mean', 'encoder.pan_blocks.1.cv1.norm.running_var', 'encoder.pan_blocks.1.cv1.norm.num_batches_tracked', 'encoder.pan_blocks.1.cv2.0.conv1.conv.weight', 'encoder.pan_blocks.1.cv2.0.conv1.norm.weight', 'encoder.pan_blocks.1.cv2.0.conv1.norm.bias', 'encoder.pan_blocks.1.cv2.0.conv1.norm.running_mean', 'encoder.pan_blocks.1.cv2.0.conv1.norm.running_var', 'encoder.pan_blocks.1.cv2.0.conv1.norm.num_batches_tracked', 'encoder.pan_blocks.1.cv2.0.conv2.conv.weight', 'encoder.pan_blocks.1.cv2.0.conv2.norm.weight', 'encoder.pan_blocks.1.cv2.0.conv2.norm.bias', 'encoder.pan_blocks.1.cv2.0.conv2.norm.running_mean', 'encoder.pan_blocks.1.cv2.0.conv2.norm.running_var', 'encoder.pan_blocks.1.cv2.0.conv2.norm.num_batches_tracked', 'encoder.pan_blocks.1.cv2.0.bottlenecks.0.conv1.conv.weight', 'encoder.pan_blocks.1.cv2.0.bottlenecks.0.conv1.norm.weight', 'encoder.pan_blocks.1.cv2.0.bottlenecks.0.conv1.norm.bias', 'encoder.pan_blocks.1.cv2.0.bottlenecks.0.conv1.norm.running_mean', 'encoder.pan_blocks.1.cv2.0.bottlenecks.0.conv1.norm.running_var', 'encoder.pan_blocks.1.cv2.0.bottlenecks.0.conv1.norm.num_batches_tracked', 'encoder.pan_blocks.1.cv2.0.bottlenecks.0.conv2.conv.weight', 'encoder.pan_blocks.1.cv2.0.bottlenecks.0.conv2.norm.weight', 'encoder.pan_blocks.1.cv2.0.bottlenecks.0.conv2.norm.bias', 'encoder.pan_blocks.1.cv2.0.bottlenecks.0.conv2.norm.running_mean', 'encoder.pan_blocks.1.cv2.0.bottlenecks.0.conv2.norm.running_var', 'encoder.pan_blocks.1.cv2.0.bottlenecks.0.conv2.norm.num_batches_tracked', 'encoder.pan_blocks.1.cv2.0.bottlenecks.1.conv1.conv.weight', 'encoder.pan_blocks.1.cv2.0.bottlenecks.1.conv1.norm.weight', 'encoder.pan_blocks.1.cv2.0.bottlenecks.1.conv1.norm.bias', 'encoder.pan_blocks.1.cv2.0.bottlenecks.1.conv1.norm.running_mean', 'encoder.pan_blocks.1.cv2.0.bottlenecks.1.conv1.norm.running_var', 'encoder.pan_blocks.1.cv2.0.bottlenecks.1.conv1.norm.num_batches_tracked', 'encoder.pan_blocks.1.cv2.0.bottlenecks.1.conv2.conv.weight', 'encoder.pan_blocks.1.cv2.0.bottlenecks.1.conv2.norm.weight', 'encoder.pan_blocks.1.cv2.0.bottlenecks.1.conv2.norm.bias', 'encoder.pan_blocks.1.cv2.0.bottlenecks.1.conv2.norm.running_mean', 'encoder.pan_blocks.1.cv2.0.bottlenecks.1.conv2.norm.running_var', 'encoder.pan_blocks.1.cv2.0.bottlenecks.1.conv2.norm.num_batches_tracked', 'encoder.pan_blocks.1.cv2.0.bottlenecks.2.conv1.conv.weight', 'encoder.pan_blocks.1.cv2.0.bottlenecks.2.conv1.norm.weight', 'encoder.pan_blocks.1.cv2.0.bottlenecks.2.conv1.norm.bias', 'encoder.pan_blocks.1.cv2.0.bottlenecks.2.conv1.norm.running_mean', 'encoder.pan_blocks.1.cv2.0.bottlenecks.2.conv1.norm.running_var', 'encoder.pan_blocks.1.cv2.0.bottlenecks.2.conv1.norm.num_batches_tracked', 'encoder.pan_blocks.1.cv2.0.bottlenecks.2.conv2.conv.weight', 'encoder.pan_blocks.1.cv2.0.bottlenecks.2.conv2.norm.weight', 'encoder.pan_blocks.1.cv2.0.bottlenecks.2.conv2.norm.bias', 'encoder.pan_blocks.1.cv2.0.bottlenecks.2.conv2.norm.running_mean', 'encoder.pan_blocks.1.cv2.0.bottlenecks.2.conv2.norm.running_var', 'encoder.pan_blocks.1.cv2.0.bottlenecks.2.conv2.norm.num_batches_tracked', 'encoder.pan_blocks.1.cv2.1.conv.weight', 'encoder.pan_blocks.1.cv2.1.norm.weight', 'encoder.pan_blocks.1.cv2.1.norm.bias', 'encoder.pan_blocks.1.cv2.1.norm.running_mean', 'encoder.pan_blocks.1.cv2.1.norm.running_var', 'encoder.pan_blocks.1.cv2.1.norm.num_batches_tracked', 'encoder.pan_blocks.1.cv3.0.conv1.conv.weight', 'encoder.pan_blocks.1.cv3.0.conv1.norm.weight', 'encoder.pan_blocks.1.cv3.0.conv1.norm.bias', 'encoder.pan_blocks.1.cv3.0.conv1.norm.running_mean', 'encoder.pan_blocks.1.cv3.0.conv1.norm.running_var', 'encoder.pan_blocks.1.cv3.0.conv1.norm.num_batches_tracked', 'encoder.pan_blocks.1.cv3.0.conv2.conv.weight', 'encoder.pan_blocks.1.cv3.0.conv2.norm.weight', 'encoder.pan_blocks.1.cv3.0.conv2.norm.bias', 'encoder.pan_blocks.1.cv3.0.conv2.norm.running_mean', 'encoder.pan_blocks.1.cv3.0.conv2.norm.running_var', 'encoder.pan_blocks.1.cv3.0.conv2.norm.num_batches_tracked', 'encoder.pan_blocks.1.cv3.0.bottlenecks.0.conv1.conv.weight', 'encoder.pan_blocks.1.cv3.0.bottlenecks.0.conv1.norm.weight', 'encoder.pan_blocks.1.cv3.0.bottlenecks.0.conv1.norm.bias', 'encoder.pan_blocks.1.cv3.0.bottlenecks.0.conv1.norm.running_mean', 'encoder.pan_blocks.1.cv3.0.bottlenecks.0.conv1.norm.running_var', 'encoder.pan_blocks.1.cv3.0.bottlenecks.0.conv1.norm.num_batches_tracked', 'encoder.pan_blocks.1.cv3.0.bottlenecks.0.conv2.conv.weight', 'encoder.pan_blocks.1.cv3.0.bottlenecks.0.conv2.norm.weight', 'encoder.pan_blocks.1.cv3.0.bottlenecks.0.conv2.norm.bias', 'encoder.pan_blocks.1.cv3.0.bottlenecks.0.conv2.norm.running_mean', 'encoder.pan_blocks.1.cv3.0.bottlenecks.0.conv2.norm.running_var', 'encoder.pan_blocks.1.cv3.0.bottlenecks.0.conv2.norm.num_batches_tracked', 'encoder.pan_blocks.1.cv3.0.bottlenecks.1.conv1.conv.weight', 'encoder.pan_blocks.1.cv3.0.bottlenecks.1.conv1.norm.weight', 'encoder.pan_blocks.1.cv3.0.bottlenecks.1.conv1.norm.bias', 'encoder.pan_blocks.1.cv3.0.bottlenecks.1.conv1.norm.running_mean', 'encoder.pan_blocks.1.cv3.0.bottlenecks.1.conv1.norm.running_var', 'encoder.pan_blocks.1.cv3.0.bottlenecks.1.conv1.norm.num_batches_tracked', 'encoder.pan_blocks.1.cv3.0.bottlenecks.1.conv2.conv.weight', 'encoder.pan_blocks.1.cv3.0.bottlenecks.1.conv2.norm.weight', 'encoder.pan_blocks.1.cv3.0.bottlenecks.1.conv2.norm.bias', 'encoder.pan_blocks.1.cv3.0.bottlenecks.1.conv2.norm.running_mean', 'encoder.pan_blocks.1.cv3.0.bottlenecks.1.conv2.norm.running_var', 'encoder.pan_blocks.1.cv3.0.bottlenecks.1.conv2.norm.num_batches_tracked', 'encoder.pan_blocks.1.cv3.0.bottlenecks.2.conv1.conv.weight', 'encoder.pan_blocks.1.cv3.0.bottlenecks.2.conv1.norm.weight', 'encoder.pan_blocks.1.cv3.0.bottlenecks.2.conv1.norm.bias', 'encoder.pan_blocks.1.cv3.0.bottlenecks.2.conv1.norm.running_mean', 'encoder.pan_blocks.1.cv3.0.bottlenecks.2.conv1.norm.running_var', 'encoder.pan_blocks.1.cv3.0.bottlenecks.2.conv1.norm.num_batches_tracked', 'encoder.pan_blocks.1.cv3.0.bottlenecks.2.conv2.conv.weight', 'encoder.pan_blocks.1.cv3.0.bottlenecks.2.conv2.norm.weight', 'encoder.pan_blocks.1.cv3.0.bottlenecks.2.conv2.norm.bias', 'encoder.pan_blocks.1.cv3.0.bottlenecks.2.conv2.norm.running_mean', 'encoder.pan_blocks.1.cv3.0.bottlenecks.2.conv2.norm.running_var', 'encoder.pan_blocks.1.cv3.0.bottlenecks.2.conv2.norm.num_batches_tracked', 'encoder.pan_blocks.1.cv3.1.conv.weight', 'encoder.pan_blocks.1.cv3.1.norm.weight', 'encoder.pan_blocks.1.cv3.1.norm.bias', 'encoder.pan_blocks.1.cv3.1.norm.running_mean', 'encoder.pan_blocks.1.cv3.1.norm.running_var', 'encoder.pan_blocks.1.cv3.1.norm.num_batches_tracked', 'encoder.pan_blocks.1.cv4.conv.weight', 'encoder.pan_blocks.1.cv4.norm.weight', 'encoder.pan_blocks.1.cv4.norm.bias', 'encoder.pan_blocks.1.cv4.norm.running_mean', 'encoder.pan_blocks.1.cv4.norm.running_var', 'encoder.pan_blocks.1.cv4.norm.num_batches_tracked'])"
      ]
     },
     "execution_count": 14,
     "metadata": {},
     "output_type": "execute_result"
    }
   ],
   "source": [
    "model['model'].keys()"
   ]
  },
  {
   "cell_type": "code",
   "execution_count": 19,
   "id": "e5c0ce5b",
   "metadata": {},
   "outputs": [],
   "source": [
    "import sys\n",
    "sys.path.append('../')\n",
    "sys.path.append('../deim')\n",
    "from deim.supervisely_integration.export import export_onnx, export_tensorrt"
   ]
  },
  {
   "cell_type": "code",
   "execution_count": 2,
   "id": "ec28373a",
   "metadata": {},
   "outputs": [
    {
     "name": "stdout",
     "output_type": "stream",
     "text": [
      "[(1, 300), (1, 300, 4), (1, 300)]\n",
      "[dtype('int64'), dtype('float32'), dtype('float32')]\n"
     ]
    }
   ],
   "source": [
    "import onnxruntime as ort\n",
    "import numpy as np\n",
    "from PIL import Image\n",
    "\n",
    "sess = ort.InferenceSession(\"../models/best_new_output.onnx\", providers=[\"CPUExecutionProvider\"])\n",
    "\n",
    "img = np.random.rand(1,3,640,640).astype(np.float32)\n",
    "outputs = sess.run(None, {\"images\": img})\n",
    "print([o.shape for o in outputs])\n",
    "print([o.dtype for o in outputs])\n"
   ]
  },
  {
   "cell_type": "code",
   "execution_count": 2,
   "id": "e263ef1a",
   "metadata": {},
   "outputs": [
    {
     "name": "stdout",
     "output_type": "stream",
     "text": [
      "Loaded stage1 B4 HGNetV2 from local file.\n",
      "Model weights loaded successfully\n",
      "--- PyTorch (train preprocessing) ---\n",
      "labels: (1, 300) <class 'numpy.ndarray'> int32\n",
      "scores min/max: 0.008348156698048115 0.9696156978607178\n",
      "boxes sample: [[445.72693 225.77625 486.1518  310.33176]\n",
      " [471.21823 288.22754 506.16565 360.8342 ]\n",
      " [310.03482 255.89984 338.69263 345.26917]\n",
      " [445.7116  225.97214 461.43457 259.25323]\n",
      " [142.62186 213.95584 175.75197 296.5071 ]]\n",
      "--- ONNX (fed PyTorch-normalized input) ---\n",
      "labels: (1, 300) <class 'numpy.ndarray'> float32\n",
      "scores min/max: 0.002884089946746826 0.007871955633163452\n",
      "boxes sample: [[ 2.0198050e+01  2.7025223e-01  3.1052227e+01  2.8351231e+01]\n",
      " [ 6.2134650e+02  4.6744752e+00  6.3274432e+02  3.2005676e+01]\n",
      " [ 6.1201001e+02 -3.6549568e+00  6.1986163e+02  3.5530586e+01]\n",
      " [ 6.2295416e+02  1.8584251e-01  6.3579016e+02  2.6900702e+01]\n",
      " [ 6.1940942e+02  2.6873493e+00  6.3276849e+02  3.2384315e+01]]\n",
      "--- ONNX (fed raw BGR 0..255 input) ---\n",
      "labels: (1, 300) <class 'numpy.ndarray'> float32\n",
      "scores min/max: 0.00834810733795166 0.9696157574653625\n",
      "boxes sample: [[445.72693 225.77625 486.1518  310.33176]\n",
      " [471.21826 288.22754 506.1657  360.8342 ]\n",
      " [310.03482 255.89984 338.69263 345.2692 ]\n",
      " [445.7116  225.97214 461.43457 259.25323]\n",
      " [142.62189 213.95584 175.75198 296.5071 ]]\n",
      "labels: shapes (1, 300) vs (1, 300), max_abs_diff=5.0, mean_abs_diff=1.6333333333333333\n",
      "boxes: shapes (1, 300, 4) vs (1, 300, 4), max_abs_diff=679.3953857421875, mean_abs_diff=226.49472045898438\n",
      "scores: shapes (1, 300) vs (1, 300), max_abs_diff=0.9617437124252319, mean_abs_diff=0.13354776799678802\n"
     ]
    }
   ],
   "source": [
    "# check_pytorch_vs_onnx.py\n",
    "import torch, onnxruntime as ort, numpy as np\n",
    "from PIL import Image\n",
    "import torchvision.transforms as T\n",
    "import cv2\n",
    "import sys\n",
    "sys.path.insert(0, \"..\")  # поправь, если нужно, чтобы импортировать deim и cfg\n",
    "\n",
    "# --- ЗАГРУЗКА PyTorch модели (тот же wrapper, который ты экспортировал) ---\n",
    "from convert_new_output import SingleInputDFINE, load_deim_model  # путь под твой проект\n",
    "cfg = load_deim_model(\"../models/best.pth\", \"../models/model_config.yml\")\n",
    "model_pt = SingleInputDFINE(cfg)\n",
    "model_pt.eval()\n",
    "device = torch.device(\"cpu\")  # или \"cuda\" если хочешь\n",
    "model_pt.to(device)\n",
    "\n",
    "# --- ЗАГРУЗКА ONNX ---\n",
    "onnx_path = \"../models/fix_rgb.onnx\"\n",
    "sess = ort.InferenceSession(onnx_path, providers=[\"CPUExecutionProvider\"])\n",
    "\n",
    "# --- ЧИТАЕМ КАДР (тот же файл, что в DeepStream) ---\n",
    "img_path = \"../data/test_video_640.avi\"  # если видео, извлечём центральный кадр\n",
    "cap = cv2.VideoCapture(img_path)\n",
    "ret, frame = cap.read()\n",
    "if not ret:\n",
    "    raise SystemExit(\"Не удалось прочитать видео/кадр\")\n",
    "frame = cv2.resize(frame, (640,640))\n",
    "\n",
    "# two preprocessing variants:\n",
    "# A) PyTorch-style (обычно): RGB, 0..1, normalized mean/std (ImageNet)\n",
    "mean = [0.485,0.456,0.406]; std=[0.229,0.224,0.225]\n",
    "transform_pt = T.Compose([\n",
    "    T.ToTensor(),  # HWC BGR->RGB + /255\n",
    "    T.Normalize(mean, std),\n",
    "])\n",
    "img_rgb = cv2.cvtColor(frame, cv2.COLOR_BGR2RGB)\n",
    "inp_pt = transform_pt(Image.fromarray(img_rgb)).unsqueeze(0).to(device)\n",
    "\n",
    "# B) DeepStream-style raw: NCHW float32, BGR, values 0..255 (без норм)\n",
    "inp_ds = frame.transpose(2,0,1).astype(np.float32)[None, :, :, :]  # NCHW, BGR, 0..255\n",
    "\n",
    "# --- Forward PyTorch (вариант PyTorch-preprocessed) ---\n",
    "with torch.no_grad():\n",
    "    out_pt = model_pt(inp_pt)   # ожидается dict {\"labels\",\"boxes\",\"scores\"} или tuple\n",
    "# normalize output printing\n",
    "def print_out(which, labels, boxes, scores):\n",
    "    print(f\"--- {which} ---\")\n",
    "    print(\"labels:\", labels.shape, type(labels), labels.dtype if hasattr(labels,'dtype') else None)\n",
    "    print(\"scores min/max:\", float(scores.min()), float(scores.max()))\n",
    "    print(\"boxes sample:\", boxes[0,:5,:] if boxes.shape[1] >=5 else boxes)\n",
    "\n",
    "# PyTorch outputs might be dict or tuple\n",
    "if isinstance(out_pt, dict):\n",
    "    labels_pt = out_pt[\"labels\"].cpu().numpy()\n",
    "    boxes_pt  = out_pt[\"boxes\"].cpu().numpy()\n",
    "    scores_pt = out_pt[\"scores\"].cpu().numpy()\n",
    "else:\n",
    "    labels_pt, boxes_pt, scores_pt = out_pt\n",
    "    labels_pt = labels_pt.cpu().numpy(); boxes_pt = boxes_pt.cpu().numpy(); scores_pt = scores_pt.cpu().numpy()\n",
    "\n",
    "print_out(\"PyTorch (train preprocessing)\", labels_pt, boxes_pt, scores_pt)\n",
    "\n",
    "# --- ONNXRuntime: test both types of inputs ---\n",
    "# 1) feed ONNX the same PyTorch-preprocessed tensor (converted to numpy float32)\n",
    "onnx_in1 = inp_pt.cpu().numpy().astype(np.float32)\n",
    "outs1 = sess.run(None, {\"images\": onnx_in1})\n",
    "print_out(\"ONNX (fed PyTorch-normalized input)\", outs1[0], outs1[1], outs1[2])\n",
    "\n",
    "# 2) feed ONNX the raw DeepStream-like input (BGR, 0..255)\n",
    "outs2 = sess.run(None, {\"images\": inp_ds.astype(np.float32)})\n",
    "print_out(\"ONNX (fed raw BGR 0..255 input)\", outs2[0], outs2[1], outs2[2])\n",
    "\n",
    "# --- Quick numerical diffs between PyTorch and ONNX when fed same normalized input ---\n",
    "def compare(a,b,name):\n",
    "    a = np.asarray(a); b = np.asarray(b)\n",
    "    print(f\"{name}: shapes {a.shape} vs {b.shape}, max_abs_diff={np.max(np.abs(a - b))}, mean_abs_diff={np.mean(np.abs(a-b))}\")\n",
    "compare(labels_pt, outs1[0], \"labels\")\n",
    "compare(boxes_pt, outs1[1], \"boxes\")\n",
    "compare(scores_pt, outs1[2], \"scores\")\n"
   ]
  },
  {
   "cell_type": "code",
   "execution_count": 3,
   "id": "59df613b",
   "metadata": {},
   "outputs": [
    {
     "name": "stdout",
     "output_type": "stream",
     "text": [
      "labels\n",
      "boxes\n",
      "scores\n"
     ]
    }
   ],
   "source": [
    "# быстро узнать имена output'ов ONNX\n",
    "import onnx\n",
    "m = onnx.load(\"../models/fix_rgb.onnx\")\n",
    "for o in m.graph.output:\n",
    "    print(o.name)\n"
   ]
  },
  {
   "cell_type": "code",
   "execution_count": 1,
   "id": "967952b6",
   "metadata": {},
   "outputs": [
    {
     "ename": "",
     "evalue": "",
     "output_type": "error",
     "traceback": [
      "\u001b[1;31mThe Kernel crashed while executing code in the current cell or a previous cell. \n",
      "\u001b[1;31mPlease review the code in the cell(s) to identify a possible cause of the failure. \n",
      "\u001b[1;31mClick <a href='https://aka.ms/vscodeJupyterKernelCrash'>here</a> for more info. \n",
      "\u001b[1;31mView Jupyter <a href='command:jupyter.viewOutput'>log</a> for further details."
     ]
    }
   ],
   "source": [
    "# run_trt_engine.py\n",
    "import tensorrt as trt\n",
    "import pycuda.driver as cuda\n",
    "import pycuda.autoinit\n",
    "import numpy as np\n",
    "import cv2\n",
    "\n",
    "TRT_LOGGER = trt.Logger(trt.Logger.INFO)\n",
    "def load_engine(engine_path):\n",
    "    with open(engine_path, \"rb\") as f, trt.Runtime(TRT_LOGGER) as runtime:\n",
    "        return runtime.deserialize_cuda_engine(f.read())\n",
    "\n",
    "engine = load_engine(\"../models/fix_rgb.engine\")\n",
    "context = engine.create_execution_context()\n",
    "\n",
    "# prepare input (read same frame)\n",
    "frame = cv2.imread(\"../data/test_video_640_frame10.jpg\")  # подготовь один png 640x640 (тот же кадр)\n",
    "frame = cv2.resize(frame, (640,640))\n",
    "# DeepStream дает BGR 0..255 NCHW, model expects that (we embedded preprocessing)\n",
    "inp = frame.transpose(2,0,1).astype(np.float32)[None, ...]\n",
    "\n",
    "# allocate buffers\n",
    "inputs, outputs, bindings, stream = [], [], [], cuda.Stream()\n",
    "for i in range(engine.num_bindings):\n",
    "    name = engine.get_binding_name(i)\n",
    "    shape = context.get_binding_shape(i)\n",
    "    dtype = trt.nptype(engine.get_binding_dtype(i))\n",
    "    size = int(np.prod(shape))\n",
    "    host_mem = cuda.pagelocked_empty(size, dtype)\n",
    "    dev_mem = cuda.mem_alloc(host_mem.nbytes)\n",
    "    bindings.append(int(dev_mem))\n",
    "    if engine.binding_is_input(i):\n",
    "        inputs.append((name, host_mem, dev_mem, shape, dtype))\n",
    "    else:\n",
    "        outputs.append((name, host_mem, dev_mem, shape, dtype))\n",
    "\n",
    "# copy input\n",
    "np.copyto(inputs[0][1], inp.ravel())\n",
    "cuda.memcpy_htod_async(inputs[0][2], inputs[0][1], stream)\n",
    "\n",
    "# execute\n",
    "context.execute_async_v2(bindings=bindings, stream_handle=stream.handle)\n",
    "# copy outputs\n",
    "for name, host_mem, dev_mem, shape, dtype in outputs:\n",
    "    cuda.memcpy_dtoh_async(host_mem, dev_mem, stream)\n",
    "\n",
    "stream.synchronize()\n",
    "\n",
    "# reshape and print\n",
    "for name, host_mem, dev_mem, shape, dtype in outputs:\n",
    "    arr = np.array(host_mem).reshape(shape)\n",
    "    print(\"OUTPUT\", name, arr.dtype, arr.shape)\n",
    "    print(\"first 20:\", arr.ravel()[:20])\n"
   ]
  },
  {
   "cell_type": "code",
   "execution_count": null,
   "id": "52379456",
   "metadata": {},
   "outputs": [],
   "source": []
  }
 ],
 "metadata": {
  "kernelspec": {
   "display_name": "Python 3",
   "language": "python",
   "name": "python3"
  },
  "language_info": {
   "codemirror_mode": {
    "name": "ipython",
    "version": 3
   },
   "file_extension": ".py",
   "mimetype": "text/x-python",
   "name": "python",
   "nbconvert_exporter": "python",
   "pygments_lexer": "ipython3",
   "version": "3.10.12"
  }
 },
 "nbformat": 4,
 "nbformat_minor": 5
}
